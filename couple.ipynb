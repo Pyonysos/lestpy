{
 "cells": [
  {
   "cell_type": "code",
   "execution_count": 14,
   "metadata": {},
   "outputs": [],
   "source": [
    "import numpy as np\n",
    "import pandas as pd\n",
    "from lestpy import lbm_model as lbm\n",
    "import seaborn as sns"
   ]
  },
  {
   "cell_type": "code",
   "execution_count": 2,
   "metadata": {},
   "outputs": [],
   "source": [
    "chemin = r\"C:\\Users\\TTfr\\Documents\\Python\\Analyses DOE - MD\\desactivation\\res_couple.xlsx\"\n",
    "df = pd.read_excel(chemin, decimal=',')\n",
    "df.drop([0], inplace=True)"
   ]
  },
  {
   "cell_type": "code",
   "execution_count": 3,
   "metadata": {},
   "outputs": [
    {
     "data": {
      "text/html": [
       "<div>\n",
       "<style scoped>\n",
       "    .dataframe tbody tr th:only-of-type {\n",
       "        vertical-align: middle;\n",
       "    }\n",
       "\n",
       "    .dataframe tbody tr th {\n",
       "        vertical-align: top;\n",
       "    }\n",
       "\n",
       "    .dataframe thead th {\n",
       "        text-align: right;\n",
       "    }\n",
       "</style>\n",
       "<table border=\"1\" class=\"dataframe\">\n",
       "  <thead>\n",
       "    <tr style=\"text-align: right;\">\n",
       "      <th></th>\n",
       "      <th>temperature</th>\n",
       "      <th>time</th>\n",
       "      <th>C3</th>\n",
       "      <th>PR1</th>\n",
       "    </tr>\n",
       "  </thead>\n",
       "  <tbody>\n",
       "    <tr>\n",
       "      <th>1</th>\n",
       "      <td>71</td>\n",
       "      <td>8</td>\n",
       "      <td>0.053600</td>\n",
       "      <td>0.057583</td>\n",
       "    </tr>\n",
       "    <tr>\n",
       "      <th>2</th>\n",
       "      <td>29</td>\n",
       "      <td>22</td>\n",
       "      <td>0.407067</td>\n",
       "      <td>0.151550</td>\n",
       "    </tr>\n",
       "    <tr>\n",
       "      <th>3</th>\n",
       "      <td>71</td>\n",
       "      <td>22</td>\n",
       "      <td>0.055633</td>\n",
       "      <td>0.058767</td>\n",
       "    </tr>\n",
       "    <tr>\n",
       "      <th>4</th>\n",
       "      <td>50</td>\n",
       "      <td>15</td>\n",
       "      <td>0.461617</td>\n",
       "      <td>0.176117</td>\n",
       "    </tr>\n",
       "    <tr>\n",
       "      <th>5</th>\n",
       "      <td>20</td>\n",
       "      <td>15</td>\n",
       "      <td>0.501617</td>\n",
       "      <td>0.189767</td>\n",
       "    </tr>\n",
       "    <tr>\n",
       "      <th>6</th>\n",
       "      <td>80</td>\n",
       "      <td>15</td>\n",
       "      <td>0.420642</td>\n",
       "      <td>0.063450</td>\n",
       "    </tr>\n",
       "    <tr>\n",
       "      <th>7</th>\n",
       "      <td>50</td>\n",
       "      <td>5</td>\n",
       "      <td>0.525150</td>\n",
       "      <td>0.194350</td>\n",
       "    </tr>\n",
       "    <tr>\n",
       "      <th>8</th>\n",
       "      <td>50</td>\n",
       "      <td>25</td>\n",
       "      <td>0.510217</td>\n",
       "      <td>0.243600</td>\n",
       "    </tr>\n",
       "  </tbody>\n",
       "</table>\n",
       "</div>"
      ],
      "text/plain": [
       "   temperature  time        C3       PR1\n",
       "1           71     8  0.053600  0.057583\n",
       "2           29    22  0.407067  0.151550\n",
       "3           71    22  0.055633  0.058767\n",
       "4           50    15  0.461617  0.176117\n",
       "5           20    15  0.501617  0.189767\n",
       "6           80    15  0.420642  0.063450\n",
       "7           50     5  0.525150  0.194350\n",
       "8           50    25  0.510217  0.243600"
      ]
     },
     "execution_count": 3,
     "metadata": {},
     "output_type": "execute_result"
    }
   ],
   "source": [
    "df"
   ]
  },
  {
   "cell_type": "code",
   "execution_count": 26,
   "metadata": {},
   "outputs": [
    {
     "data": {
      "text/plain": [
       "<seaborn.axisgrid.PairGrid at 0x27bfc370>"
      ]
     },
     "execution_count": 26,
     "metadata": {},
     "output_type": "execute_result"
    },
    {
     "data": {
      "image/png": "[encoded data removed]",
      "text/plain": [
       "<Figure size 418.25x360 with 6 Axes>"
      ]
     },
     "metadata": {
      "needs_background": "light"
     },
     "output_type": "display_data"
    }
   ],
   "source": [
    "sns.pairplot(df[['temperature', 'time', 'C3']], hue='C3')"
   ]
  },
  {
   "cell_type": "code",
   "execution_count": 31,
   "metadata": {},
   "outputs": [
    {
     "data": {
      "text/html": [
       "<div>\n",
       "<style scoped>\n",
       "    .dataframe tbody tr th:only-of-type {\n",
       "        vertical-align: middle;\n",
       "    }\n",
       "\n",
       "    .dataframe tbody tr th {\n",
       "        vertical-align: top;\n",
       "    }\n",
       "\n",
       "    .dataframe thead th {\n",
       "        text-align: right;\n",
       "    }\n",
       "</style>\n",
       "<table border=\"1\" class=\"dataframe\">\n",
       "  <thead>\n",
       "    <tr style=\"text-align: right;\">\n",
       "      <th></th>\n",
       "      <th>C3</th>\n",
       "      <th>PR1</th>\n",
       "    </tr>\n",
       "  </thead>\n",
       "  <tbody>\n",
       "    <tr>\n",
       "      <th>1</th>\n",
       "      <td>0.053600</td>\n",
       "      <td>0.057583</td>\n",
       "    </tr>\n",
       "    <tr>\n",
       "      <th>2</th>\n",
       "      <td>0.407067</td>\n",
       "      <td>0.151550</td>\n",
       "    </tr>\n",
       "    <tr>\n",
       "      <th>3</th>\n",
       "      <td>0.055633</td>\n",
       "      <td>0.058767</td>\n",
       "    </tr>\n",
       "    <tr>\n",
       "      <th>4</th>\n",
       "      <td>0.461617</td>\n",
       "      <td>0.176117</td>\n",
       "    </tr>\n",
       "    <tr>\n",
       "      <th>5</th>\n",
       "      <td>0.501617</td>\n",
       "      <td>0.189767</td>\n",
       "    </tr>\n",
       "    <tr>\n",
       "      <th>6</th>\n",
       "      <td>0.420642</td>\n",
       "      <td>0.063450</td>\n",
       "    </tr>\n",
       "    <tr>\n",
       "      <th>7</th>\n",
       "      <td>0.525150</td>\n",
       "      <td>0.194350</td>\n",
       "    </tr>\n",
       "    <tr>\n",
       "      <th>8</th>\n",
       "      <td>0.510217</td>\n",
       "      <td>0.243600</td>\n",
       "    </tr>\n",
       "  </tbody>\n",
       "</table>\n",
       "</div>"
      ],
      "text/plain": [
       "         C3       PR1\n",
       "1  0.053600  0.057583\n",
       "2  0.407067  0.151550\n",
       "3  0.055633  0.058767\n",
       "4  0.461617  0.176117\n",
       "5  0.501617  0.189767\n",
       "6  0.420642  0.063450\n",
       "7  0.525150  0.194350\n",
       "8  0.510217  0.243600"
      ]
     },
     "execution_count": 31,
     "metadata": {},
     "output_type": "execute_result"
    }
   ],
   "source": [
    "y = df[['C3', 'PR1']]\n",
    "X = df[['temperature', 'time']]\n",
    "y"
   ]
  },
  {
   "cell_type": "code",
   "execution_count": 32,
   "metadata": {},
   "outputs": [],
   "source": [
    "model = lbm.LBM_Regression()"
   ]
  },
  {
   "cell_type": "code",
   "execution_count": 37,
   "metadata": {},
   "outputs": [
    {
     "name": "stdout",
     "output_type": "stream",
     "text": [
      "method = variable instant\n",
      "calculated in 0.032 seconds\n"
     ]
    },
    {
     "data": {
      "text/plain": [
       "<lestpy.lbm_model.LBM_Regression at 0x284f1b20>"
      ]
     },
     "execution_count": 37,
     "metadata": {},
     "output_type": "execute_result"
    }
   ],
   "source": [
    "model.transform(X, y, interaction_list='quadratic', allow_autointeraction=True)"
   ]
  },
  {
   "cell_type": "code",
   "execution_count": 42,
   "metadata": {},
   "outputs": [
    {
     "data": {
      "text/html": [
       "<div>\n",
       "<style scoped>\n",
       "    .dataframe tbody tr th:only-of-type {\n",
       "        vertical-align: middle;\n",
       "    }\n",
       "\n",
       "    .dataframe tbody tr th {\n",
       "        vertical-align: top;\n",
       "    }\n",
       "\n",
       "    .dataframe thead th {\n",
       "        text-align: right;\n",
       "    }\n",
       "</style>\n",
       "<table border=\"1\" class=\"dataframe\">\n",
       "  <thead>\n",
       "    <tr style=\"text-align: right;\">\n",
       "      <th></th>\n",
       "      <th>time</th>\n",
       "      <th>temperature x temperature</th>\n",
       "      <th>temperature x time</th>\n",
       "      <th>time x time</th>\n",
       "    </tr>\n",
       "  </thead>\n",
       "  <tbody>\n",
       "    <tr>\n",
       "      <th>0</th>\n",
       "      <td>-0.455983</td>\n",
       "      <td>-0.047654</td>\n",
       "      <td>-0.571080</td>\n",
       "      <td>0.181551</td>\n",
       "    </tr>\n",
       "    <tr>\n",
       "      <th>1</th>\n",
       "      <td>0.354654</td>\n",
       "      <td>0.181551</td>\n",
       "      <td>-0.571080</td>\n",
       "      <td>-0.047654</td>\n",
       "    </tr>\n",
       "    <tr>\n",
       "      <th>2</th>\n",
       "      <td>0.354654</td>\n",
       "      <td>-0.047654</td>\n",
       "      <td>0.613383</td>\n",
       "      <td>-0.047654</td>\n",
       "    </tr>\n",
       "    <tr>\n",
       "      <th>3</th>\n",
       "      <td>-0.050665</td>\n",
       "      <td>-0.391461</td>\n",
       "      <td>0.105756</td>\n",
       "      <td>-0.391461</td>\n",
       "    </tr>\n",
       "    <tr>\n",
       "      <th>4</th>\n",
       "      <td>-0.050665</td>\n",
       "      <td>0.707787</td>\n",
       "      <td>0.226619</td>\n",
       "      <td>-0.391461</td>\n",
       "    </tr>\n",
       "    <tr>\n",
       "      <th>5</th>\n",
       "      <td>-0.050665</td>\n",
       "      <td>0.380351</td>\n",
       "      <td>-0.015108</td>\n",
       "      <td>-0.391461</td>\n",
       "    </tr>\n",
       "    <tr>\n",
       "      <th>6</th>\n",
       "      <td>-0.629691</td>\n",
       "      <td>-0.391461</td>\n",
       "      <td>0.226619</td>\n",
       "      <td>0.707787</td>\n",
       "    </tr>\n",
       "    <tr>\n",
       "      <th>7</th>\n",
       "      <td>0.528362</td>\n",
       "      <td>-0.391461</td>\n",
       "      <td>-0.015108</td>\n",
       "      <td>0.380351</td>\n",
       "    </tr>\n",
       "  </tbody>\n",
       "</table>\n",
       "</div>"
      ],
      "text/plain": [
       "       time  temperature x temperature  temperature x time  time x time\n",
       "0 -0.455983                  -0.047654           -0.571080     0.181551\n",
       "1  0.354654                   0.181551           -0.571080    -0.047654\n",
       "2  0.354654                  -0.047654            0.613383    -0.047654\n",
       "3 -0.050665                  -0.391461            0.105756    -0.391461\n",
       "4 -0.050665                   0.707787            0.226619    -0.391461\n",
       "5 -0.050665                   0.380351           -0.015108    -0.391461\n",
       "6 -0.629691                  -0.391461            0.226619     0.707787\n",
       "7  0.528362                  -0.391461           -0.015108     0.380351"
      ]
     },
     "execution_count": 42,
     "metadata": {},
     "output_type": "execute_result"
    }
   ],
   "source": [
    "model.rescaled_features = model.rescaled_features[['time',\t'temperature x temperature',\t'temperature x time',\t'time x time']]\n",
    "model.rescaled_features"
   ]
  },
  {
   "cell_type": "code",
   "execution_count": 43,
   "metadata": {},
   "outputs": [
    {
     "name": "stdout",
     "output_type": "stream",
     "text": [
      "summary of the model for C3:\n",
      "                            OLS Regression Results                            \n",
      "==============================================================================\n",
      "Dep. Variable:                      y   R-squared:                       0.322\n",
      "Model:                            OLS   Adj. R-squared:                  0.209\n",
      "Method:                 Least Squares   F-statistic:                     2.844\n",
      "Date:                Tue, 14 Jun 2022   Prob (F-statistic):              0.143\n",
      "Time:                        21:48:15   Log-Likelihood:                 3.7226\n",
      "No. Observations:                   8   AIC:                            -3.445\n",
      "Df Residuals:                       6   BIC:                            -3.286\n",
      "Df Model:                           1                                         \n",
      "Covariance Type:            nonrobust                                         \n",
      "===============================================================================\n",
      "                  coef    std err          t      P>|t|      [0.025      0.975]\n",
      "-------------------------------------------------------------------------------\n",
      "temperature    -0.0053      0.003     -1.687      0.143      -0.013       0.002\n",
      "intercept       0.6481      0.178      3.644      0.011       0.213       1.083\n",
      "==============================================================================\n",
      "Omnibus:                        1.819   Durbin-Watson:                   1.052\n",
      "Prob(Omnibus):                  0.403   Jarque-Bera (JB):                0.774\n",
      "Skew:                          -0.238   Prob(JB):                        0.679\n",
      "Kurtosis:                       1.552   Cond. No.                         161.\n",
      "==============================================================================\n",
      "\n",
      "Notes:\n",
      "[1] Standard Errors assume that the covariance matrix of the errors is correctly specified.\n",
      "==============================================================================\n",
      "\n",
      "\n",
      "\n",
      "summary of the model for PR1:\n",
      "                            OLS Regression Results                            \n",
      "==============================================================================\n",
      "Dep. Variable:                      y   R-squared:                       0.499\n",
      "Model:                            OLS   Adj. R-squared:                  0.416\n",
      "Method:                 Least Squares   F-statistic:                     5.977\n",
      "Date:                Tue, 14 Jun 2022   Prob (F-statistic):             0.0501\n",
      "Time:                        21:48:15   Log-Likelihood:                 12.938\n",
      "No. Observations:                   8   AIC:                            -21.88\n",
      "Df Residuals:                       6   BIC:                            -21.72\n",
      "Df Model:                           1                                         \n",
      "Covariance Type:            nonrobust                                         \n",
      "===============================================================================\n",
      "                  coef    std err          t      P>|t|      [0.025      0.975]\n",
      "-------------------------------------------------------------------------------\n",
      "temperature    -0.0024      0.001     -2.445      0.050      -0.005    2.06e-06\n",
      "intercept       0.2707      0.056      4.816      0.003       0.133       0.408\n",
      "==============================================================================\n",
      "Omnibus:                        1.868   Durbin-Watson:                   0.773\n",
      "Prob(Omnibus):                  0.393   Jarque-Bera (JB):                1.041\n",
      "Skew:                           0.814   Prob(JB):                        0.594\n",
      "Kurtosis:                       2.315   Cond. No.                         161.\n",
      "==============================================================================\n",
      "\n",
      "Notes:\n",
      "[1] Standard Errors assume that the covariance matrix of the errors is correctly specified.\n",
      "==============================================================================\n",
      "\n",
      "\n",
      "\n",
      "fit method computed in 0.181 seconds\n"
     ]
    },
    {
     "name": "stderr",
     "output_type": "stream",
     "text": [
      "c:\\Users\\TTfr\\AppData\\Local\\Programs\\Python\\Python39-32\\lib\\site-packages\\scipy\\stats\\_stats_py.py:1477: UserWarning: kurtosistest only valid for n>=20 ... continuing anyway, n=8\n",
      "  warnings.warn(\"kurtosistest only valid for n>=20 ... continuing \"\n",
      "c:\\Users\\TTfr\\AppData\\Local\\Programs\\Python\\Python39-32\\lib\\site-packages\\scipy\\stats\\_stats_py.py:1477: UserWarning: kurtosistest only valid for n>=20 ... continuing anyway, n=8\n",
      "  warnings.warn(\"kurtosistest only valid for n>=20 ... continuing \"\n"
     ]
    },
    {
     "data": {
      "text/plain": [
       "<lestpy.lbm_model.LBM_Regression at 0x284f1b20>"
      ]
     },
     "execution_count": 43,
     "metadata": {},
     "output_type": "execute_result"
    }
   ],
   "source": [
    "model.fit(X,y, threshold=0.05)"
   ]
  },
  {
   "cell_type": "code",
   "execution_count": null,
   "metadata": {},
   "outputs": [],
   "source": []
  }
 ],
 "metadata": {
  "kernelspec": {
   "display_name": "Python 3.9.0 32-bit",
   "language": "python",
   "name": "python3"
  },
  "language_info": {
   "codemirror_mode": {
    "name": "ipython",
    "version": 3
   },
   "file_extension": ".py",
   "mimetype": "text/x-python",
   "name": "python",
   "nbconvert_exporter": "python",
   "pygments_lexer": "ipython3",
   "version": "3.9.0"
  },
  "orig_nbformat": 4,
  "vscode": {
   "interpreter": {
    "hash": "4a113fc46985be8cfb6b6ecae182bb047fac23af7d9480bf47a7f64500e196ff"
   }
  }
 },
 "nbformat": 4,
 "nbformat_minor": 2
}
