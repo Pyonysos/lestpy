{
 "cells": [
  {
   "cell_type": "code",
   "execution_count": 1,
   "metadata": {},
   "outputs": [],
   "source": [
    "# pip install seaborn\n",
    "# pip install pandas\n",
    "# pip install lestpy"
   ]
  },
  {
   "cell_type": "code",
   "execution_count": 2,
   "metadata": {},
   "outputs": [],
   "source": [
    "import seaborn as sns\n",
    "import pandas as pd\n",
    "from lestpy import lbm_model as lp"
   ]
  },
  {
   "cell_type": "markdown",
   "metadata": {},
   "source": [
    "# 1. Les données"
   ]
  },
  {
   "cell_type": "markdown",
   "metadata": {},
   "source": [
    "## 1.1 Import des données"
   ]
  },
  {
   "cell_type": "code",
   "execution_count": 3,
   "metadata": {},
   "outputs": [],
   "source": [
    "df = sns.load_dataset('iris')\n",
    "#df = pd.read_csv('C:/Users/TTfr/Documents/Python/formation_python/iris.csv')"
   ]
  },
  {
   "cell_type": "markdown",
   "metadata": {},
   "source": [
    "## 1.2 Visualisation rapide des données"
   ]
  },
  {
   "cell_type": "code",
   "execution_count": 4,
   "metadata": {},
   "outputs": [
    {
     "data": {
      "text/html": [
       "<div>\n",
       "<style scoped>\n",
       "    .dataframe tbody tr th:only-of-type {\n",
       "        vertical-align: middle;\n",
       "    }\n",
       "\n",
       "    .dataframe tbody tr th {\n",
       "        vertical-align: top;\n",
       "    }\n",
       "\n",
       "    .dataframe thead th {\n",
       "        text-align: right;\n",
       "    }\n",
       "</style>\n",
       "<table border=\"1\" class=\"dataframe\">\n",
       "  <thead>\n",
       "    <tr style=\"text-align: right;\">\n",
       "      <th></th>\n",
       "      <th>sepal_length</th>\n",
       "      <th>sepal_width</th>\n",
       "      <th>petal_length</th>\n",
       "      <th>petal_width</th>\n",
       "      <th>species</th>\n",
       "    </tr>\n",
       "  </thead>\n",
       "  <tbody>\n",
       "    <tr>\n",
       "      <th>0</th>\n",
       "      <td>5.1</td>\n",
       "      <td>3.5</td>\n",
       "      <td>1.4</td>\n",
       "      <td>0.2</td>\n",
       "      <td>setosa</td>\n",
       "    </tr>\n",
       "    <tr>\n",
       "      <th>1</th>\n",
       "      <td>4.9</td>\n",
       "      <td>3.0</td>\n",
       "      <td>1.4</td>\n",
       "      <td>0.2</td>\n",
       "      <td>setosa</td>\n",
       "    </tr>\n",
       "    <tr>\n",
       "      <th>2</th>\n",
       "      <td>4.7</td>\n",
       "      <td>3.2</td>\n",
       "      <td>1.3</td>\n",
       "      <td>0.2</td>\n",
       "      <td>setosa</td>\n",
       "    </tr>\n",
       "    <tr>\n",
       "      <th>3</th>\n",
       "      <td>4.6</td>\n",
       "      <td>3.1</td>\n",
       "      <td>1.5</td>\n",
       "      <td>0.2</td>\n",
       "      <td>setosa</td>\n",
       "    </tr>\n",
       "    <tr>\n",
       "      <th>4</th>\n",
       "      <td>5.0</td>\n",
       "      <td>3.6</td>\n",
       "      <td>1.4</td>\n",
       "      <td>0.2</td>\n",
       "      <td>setosa</td>\n",
       "    </tr>\n",
       "  </tbody>\n",
       "</table>\n",
       "</div>"
      ],
      "text/plain": [
       "   sepal_length  sepal_width  petal_length  petal_width species\n",
       "0           5.1          3.5           1.4          0.2  setosa\n",
       "1           4.9          3.0           1.4          0.2  setosa\n",
       "2           4.7          3.2           1.3          0.2  setosa\n",
       "3           4.6          3.1           1.5          0.2  setosa\n",
       "4           5.0          3.6           1.4          0.2  setosa"
      ]
     },
     "execution_count": 4,
     "metadata": {},
     "output_type": "execute_result"
    }
   ],
   "source": [
    "df.head(5)"
   ]
  },
  {
   "cell_type": "code",
   "execution_count": 5,
   "metadata": {},
   "outputs": [
    {
     "data": {
      "text/html": [
       "<div>\n",
       "<style scoped>\n",
       "    .dataframe tbody tr th:only-of-type {\n",
       "        vertical-align: middle;\n",
       "    }\n",
       "\n",
       "    .dataframe tbody tr th {\n",
       "        vertical-align: top;\n",
       "    }\n",
       "\n",
       "    .dataframe thead th {\n",
       "        text-align: right;\n",
       "    }\n",
       "</style>\n",
       "<table border=\"1\" class=\"dataframe\">\n",
       "  <thead>\n",
       "    <tr style=\"text-align: right;\">\n",
       "      <th></th>\n",
       "      <th>sepal_length</th>\n",
       "      <th>sepal_width</th>\n",
       "      <th>petal_length</th>\n",
       "      <th>petal_width</th>\n",
       "    </tr>\n",
       "  </thead>\n",
       "  <tbody>\n",
       "    <tr>\n",
       "      <th>count</th>\n",
       "      <td>150.000000</td>\n",
       "      <td>150.000000</td>\n",
       "      <td>150.000000</td>\n",
       "      <td>150.000000</td>\n",
       "    </tr>\n",
       "    <tr>\n",
       "      <th>mean</th>\n",
       "      <td>5.843333</td>\n",
       "      <td>3.057333</td>\n",
       "      <td>3.758000</td>\n",
       "      <td>1.199333</td>\n",
       "    </tr>\n",
       "    <tr>\n",
       "      <th>std</th>\n",
       "      <td>0.828066</td>\n",
       "      <td>0.435866</td>\n",
       "      <td>1.765298</td>\n",
       "      <td>0.762238</td>\n",
       "    </tr>\n",
       "    <tr>\n",
       "      <th>min</th>\n",
       "      <td>4.300000</td>\n",
       "      <td>2.000000</td>\n",
       "      <td>1.000000</td>\n",
       "      <td>0.100000</td>\n",
       "    </tr>\n",
       "    <tr>\n",
       "      <th>25%</th>\n",
       "      <td>5.100000</td>\n",
       "      <td>2.800000</td>\n",
       "      <td>1.600000</td>\n",
       "      <td>0.300000</td>\n",
       "    </tr>\n",
       "    <tr>\n",
       "      <th>50%</th>\n",
       "      <td>5.800000</td>\n",
       "      <td>3.000000</td>\n",
       "      <td>4.350000</td>\n",
       "      <td>1.300000</td>\n",
       "    </tr>\n",
       "    <tr>\n",
       "      <th>75%</th>\n",
       "      <td>6.400000</td>\n",
       "      <td>3.300000</td>\n",
       "      <td>5.100000</td>\n",
       "      <td>1.800000</td>\n",
       "    </tr>\n",
       "    <tr>\n",
       "      <th>max</th>\n",
       "      <td>7.900000</td>\n",
       "      <td>4.400000</td>\n",
       "      <td>6.900000</td>\n",
       "      <td>2.500000</td>\n",
       "    </tr>\n",
       "  </tbody>\n",
       "</table>\n",
       "</div>"
      ],
      "text/plain": [
       "       sepal_length  sepal_width  petal_length  petal_width\n",
       "count    150.000000   150.000000    150.000000   150.000000\n",
       "mean       5.843333     3.057333      3.758000     1.199333\n",
       "std        0.828066     0.435866      1.765298     0.762238\n",
       "min        4.300000     2.000000      1.000000     0.100000\n",
       "25%        5.100000     2.800000      1.600000     0.300000\n",
       "50%        5.800000     3.000000      4.350000     1.300000\n",
       "75%        6.400000     3.300000      5.100000     1.800000\n",
       "max        7.900000     4.400000      6.900000     2.500000"
      ]
     },
     "execution_count": 5,
     "metadata": {},
     "output_type": "execute_result"
    }
   ],
   "source": [
    "df.describe()"
   ]
  },
  {
   "cell_type": "code",
   "execution_count": 6,
   "metadata": {},
   "outputs": [],
   "source": [
    "#sns.pairplot(df, hue='species', palette='viridis')"
   ]
  },
  {
   "cell_type": "code",
   "execution_count": 7,
   "metadata": {},
   "outputs": [
    {
     "name": "stderr",
     "output_type": "stream",
     "text": [
      "/tmp/ipykernel_4880/1515263718.py:2: SettingWithCopyWarning: \n",
      "A value is trying to be set on a copy of a slice from a DataFrame\n",
      "\n",
      "See the caveats in the documentation: https://pandas.pydata.org/pandas-docs/stable/user_guide/indexing.html#returning-a-view-versus-a-copy\n",
      "  df['species'][df['species'] == species] = num\n"
     ]
    },
    {
     "data": {
      "text/html": [
       "<div>\n",
       "<style scoped>\n",
       "    .dataframe tbody tr th:only-of-type {\n",
       "        vertical-align: middle;\n",
       "    }\n",
       "\n",
       "    .dataframe tbody tr th {\n",
       "        vertical-align: top;\n",
       "    }\n",
       "\n",
       "    .dataframe thead th {\n",
       "        text-align: right;\n",
       "    }\n",
       "</style>\n",
       "<table border=\"1\" class=\"dataframe\">\n",
       "  <thead>\n",
       "    <tr style=\"text-align: right;\">\n",
       "      <th></th>\n",
       "      <th>sepal_length</th>\n",
       "      <th>sepal_width</th>\n",
       "      <th>petal_length</th>\n",
       "      <th>petal_width</th>\n",
       "      <th>species</th>\n",
       "    </tr>\n",
       "  </thead>\n",
       "  <tbody>\n",
       "    <tr>\n",
       "      <th>0</th>\n",
       "      <td>5.1</td>\n",
       "      <td>3.5</td>\n",
       "      <td>1.4</td>\n",
       "      <td>0.2</td>\n",
       "      <td>0</td>\n",
       "    </tr>\n",
       "    <tr>\n",
       "      <th>1</th>\n",
       "      <td>4.9</td>\n",
       "      <td>3.0</td>\n",
       "      <td>1.4</td>\n",
       "      <td>0.2</td>\n",
       "      <td>0</td>\n",
       "    </tr>\n",
       "    <tr>\n",
       "      <th>2</th>\n",
       "      <td>4.7</td>\n",
       "      <td>3.2</td>\n",
       "      <td>1.3</td>\n",
       "      <td>0.2</td>\n",
       "      <td>0</td>\n",
       "    </tr>\n",
       "    <tr>\n",
       "      <th>3</th>\n",
       "      <td>4.6</td>\n",
       "      <td>3.1</td>\n",
       "      <td>1.5</td>\n",
       "      <td>0.2</td>\n",
       "      <td>0</td>\n",
       "    </tr>\n",
       "    <tr>\n",
       "      <th>4</th>\n",
       "      <td>5.0</td>\n",
       "      <td>3.6</td>\n",
       "      <td>1.4</td>\n",
       "      <td>0.2</td>\n",
       "      <td>0</td>\n",
       "    </tr>\n",
       "    <tr>\n",
       "      <th>...</th>\n",
       "      <td>...</td>\n",
       "      <td>...</td>\n",
       "      <td>...</td>\n",
       "      <td>...</td>\n",
       "      <td>...</td>\n",
       "    </tr>\n",
       "    <tr>\n",
       "      <th>145</th>\n",
       "      <td>6.7</td>\n",
       "      <td>3.0</td>\n",
       "      <td>5.2</td>\n",
       "      <td>2.3</td>\n",
       "      <td>2</td>\n",
       "    </tr>\n",
       "    <tr>\n",
       "      <th>146</th>\n",
       "      <td>6.3</td>\n",
       "      <td>2.5</td>\n",
       "      <td>5.0</td>\n",
       "      <td>1.9</td>\n",
       "      <td>2</td>\n",
       "    </tr>\n",
       "    <tr>\n",
       "      <th>147</th>\n",
       "      <td>6.5</td>\n",
       "      <td>3.0</td>\n",
       "      <td>5.2</td>\n",
       "      <td>2.0</td>\n",
       "      <td>2</td>\n",
       "    </tr>\n",
       "    <tr>\n",
       "      <th>148</th>\n",
       "      <td>6.2</td>\n",
       "      <td>3.4</td>\n",
       "      <td>5.4</td>\n",
       "      <td>2.3</td>\n",
       "      <td>2</td>\n",
       "    </tr>\n",
       "    <tr>\n",
       "      <th>149</th>\n",
       "      <td>5.9</td>\n",
       "      <td>3.0</td>\n",
       "      <td>5.1</td>\n",
       "      <td>1.8</td>\n",
       "      <td>2</td>\n",
       "    </tr>\n",
       "  </tbody>\n",
       "</table>\n",
       "<p>150 rows × 5 columns</p>\n",
       "</div>"
      ],
      "text/plain": [
       "     sepal_length  sepal_width  petal_length  petal_width species\n",
       "0             5.1          3.5           1.4          0.2       0\n",
       "1             4.9          3.0           1.4          0.2       0\n",
       "2             4.7          3.2           1.3          0.2       0\n",
       "3             4.6          3.1           1.5          0.2       0\n",
       "4             5.0          3.6           1.4          0.2       0\n",
       "..            ...          ...           ...          ...     ...\n",
       "145           6.7          3.0           5.2          2.3       2\n",
       "146           6.3          2.5           5.0          1.9       2\n",
       "147           6.5          3.0           5.2          2.0       2\n",
       "148           6.2          3.4           5.4          2.3       2\n",
       "149           5.9          3.0           5.1          1.8       2\n",
       "\n",
       "[150 rows x 5 columns]"
      ]
     },
     "execution_count": 7,
     "metadata": {},
     "output_type": "execute_result"
    }
   ],
   "source": [
    "for num, species in enumerate(df.species.unique()):\n",
    "    df['species'][df['species'] == species] = num\n",
    "df"
   ]
  },
  {
   "cell_type": "code",
   "execution_count": 8,
   "metadata": {},
   "outputs": [],
   "source": [
    "y = df.pop('species')\n",
    "X = df"
   ]
  },
  {
   "cell_type": "code",
   "execution_count": 9,
   "metadata": {},
   "outputs": [
    {
     "data": {
      "text/html": [
       "<div>\n",
       "<style scoped>\n",
       "    .dataframe tbody tr th:only-of-type {\n",
       "        vertical-align: middle;\n",
       "    }\n",
       "\n",
       "    .dataframe tbody tr th {\n",
       "        vertical-align: top;\n",
       "    }\n",
       "\n",
       "    .dataframe thead th {\n",
       "        text-align: right;\n",
       "    }\n",
       "</style>\n",
       "<table border=\"1\" class=\"dataframe\">\n",
       "  <thead>\n",
       "    <tr style=\"text-align: right;\">\n",
       "      <th></th>\n",
       "      <th>sepal_length</th>\n",
       "      <th>sepal_width</th>\n",
       "      <th>petal_length</th>\n",
       "      <th>petal_width</th>\n",
       "    </tr>\n",
       "  </thead>\n",
       "  <tbody>\n",
       "    <tr>\n",
       "      <th>0</th>\n",
       "      <td>5.1</td>\n",
       "      <td>3.5</td>\n",
       "      <td>1.4</td>\n",
       "      <td>0.2</td>\n",
       "    </tr>\n",
       "    <tr>\n",
       "      <th>1</th>\n",
       "      <td>4.9</td>\n",
       "      <td>3.0</td>\n",
       "      <td>1.4</td>\n",
       "      <td>0.2</td>\n",
       "    </tr>\n",
       "    <tr>\n",
       "      <th>2</th>\n",
       "      <td>4.7</td>\n",
       "      <td>3.2</td>\n",
       "      <td>1.3</td>\n",
       "      <td>0.2</td>\n",
       "    </tr>\n",
       "    <tr>\n",
       "      <th>3</th>\n",
       "      <td>4.6</td>\n",
       "      <td>3.1</td>\n",
       "      <td>1.5</td>\n",
       "      <td>0.2</td>\n",
       "    </tr>\n",
       "    <tr>\n",
       "      <th>4</th>\n",
       "      <td>5.0</td>\n",
       "      <td>3.6</td>\n",
       "      <td>1.4</td>\n",
       "      <td>0.2</td>\n",
       "    </tr>\n",
       "    <tr>\n",
       "      <th>...</th>\n",
       "      <td>...</td>\n",
       "      <td>...</td>\n",
       "      <td>...</td>\n",
       "      <td>...</td>\n",
       "    </tr>\n",
       "    <tr>\n",
       "      <th>145</th>\n",
       "      <td>6.7</td>\n",
       "      <td>3.0</td>\n",
       "      <td>5.2</td>\n",
       "      <td>2.3</td>\n",
       "    </tr>\n",
       "    <tr>\n",
       "      <th>146</th>\n",
       "      <td>6.3</td>\n",
       "      <td>2.5</td>\n",
       "      <td>5.0</td>\n",
       "      <td>1.9</td>\n",
       "    </tr>\n",
       "    <tr>\n",
       "      <th>147</th>\n",
       "      <td>6.5</td>\n",
       "      <td>3.0</td>\n",
       "      <td>5.2</td>\n",
       "      <td>2.0</td>\n",
       "    </tr>\n",
       "    <tr>\n",
       "      <th>148</th>\n",
       "      <td>6.2</td>\n",
       "      <td>3.4</td>\n",
       "      <td>5.4</td>\n",
       "      <td>2.3</td>\n",
       "    </tr>\n",
       "    <tr>\n",
       "      <th>149</th>\n",
       "      <td>5.9</td>\n",
       "      <td>3.0</td>\n",
       "      <td>5.1</td>\n",
       "      <td>1.8</td>\n",
       "    </tr>\n",
       "  </tbody>\n",
       "</table>\n",
       "<p>150 rows × 4 columns</p>\n",
       "</div>"
      ],
      "text/plain": [
       "     sepal_length  sepal_width  petal_length  petal_width\n",
       "0             5.1          3.5           1.4          0.2\n",
       "1             4.9          3.0           1.4          0.2\n",
       "2             4.7          3.2           1.3          0.2\n",
       "3             4.6          3.1           1.5          0.2\n",
       "4             5.0          3.6           1.4          0.2\n",
       "..            ...          ...           ...          ...\n",
       "145           6.7          3.0           5.2          2.3\n",
       "146           6.3          2.5           5.0          1.9\n",
       "147           6.5          3.0           5.2          2.0\n",
       "148           6.2          3.4           5.4          2.3\n",
       "149           5.9          3.0           5.1          1.8\n",
       "\n",
       "[150 rows x 4 columns]"
      ]
     },
     "execution_count": 9,
     "metadata": {},
     "output_type": "execute_result"
    }
   ],
   "source": [
    "X"
   ]
  },
  {
   "cell_type": "code",
   "execution_count": 10,
   "metadata": {},
   "outputs": [
    {
     "name": "stdout",
     "output_type": "stream",
     "text": [
      "['X_xor_Y', 'X_or_Y', 'X_or_not_Y', 'X_and_Y', 'X_and_not_Y', 'X_if_Y', 'X_if_not_Y', 'X_if_Y_average', 'X_average_if_Y', 'X_average_if_not_Y', 'Neither_X_nor_Y_extreme', 'both_X_Y_average', 'X_like_Y', 'Sum_X_Y', 'Difference_X_Y', 'experiment']\n"
     ]
    }
   ],
   "source": [
    "func = lambda x,y : x*y\n",
    "interact = lp.InteractionBuilder('experiment', func)"
   ]
  },
  {
   "cell_type": "code",
   "execution_count": null,
   "metadata": {},
   "outputs": [],
   "source": []
  },
  {
   "cell_type": "markdown",
   "metadata": {},
   "source": [
    "# 2. Modele"
   ]
  },
  {
   "cell_type": "code",
   "execution_count": 11,
   "metadata": {},
   "outputs": [],
   "source": [
    "model = lp.LBM_Regression()"
   ]
  },
  {
   "cell_type": "code",
   "execution_count": 12,
   "metadata": {},
   "outputs": [
    {
     "name": "stdout",
     "output_type": "stream",
     "text": [
      "method = variable instant\n",
      "calculated in 0.277 seconds\n"
     ]
    },
    {
     "data": {
      "text/plain": [
       "<lestpy.lbm_model.LBM_Regression at 0x7f0527790040>"
      ]
     },
     "execution_count": 12,
     "metadata": {},
     "output_type": "execute_result"
    }
   ],
   "source": [
    "model.transform(X, y)"
   ]
  },
  {
   "cell_type": "code",
   "execution_count": 13,
   "metadata": {},
   "outputs": [
    {
     "name": "stdout",
     "output_type": "stream",
     "text": [
      "summary of the model for species:\n",
      "                            OLS Regression Results                            \n",
      "==============================================================================\n",
      "Dep. Variable:                      y   R-squared:                       0.955\n",
      "Model:                            OLS   Adj. R-squared:                  0.954\n",
      "Method:                 Least Squares   F-statistic:                     765.8\n",
      "Date:                Mon, 06 Jun 2022   Prob (F-statistic):           2.20e-96\n",
      "Time:                        17:01:07   Log-Likelihood:                 49.821\n",
      "No. Observations:                 150   AIC:                            -89.64\n",
      "Df Residuals:                     145   BIC:                            -74.59\n",
      "Df Model:                           4                                         \n",
      "Covariance Type:            nonrobust                                         \n",
      "============================================================================================================\n",
      "                                               coef    std err          t      P>|t|      [0.025      0.975]\n",
      "------------------------------------------------------------------------------------------------------------\n",
      "Sum of petal_length and petal_width high    13.3907      0.552     24.280      0.000      12.301      14.481\n",
      "petal_length average if not petal_width     -2.0035      0.217     -9.231      0.000      -2.432      -1.574\n",
      "sepal_length and petal_width                -2.6631      0.586     -4.543      0.000      -3.822      -1.505\n",
      "sepal_width and petal_width                 -1.6013      0.386     -4.146      0.000      -2.365      -0.838\n",
      "intercept                                    1.0000      0.014     69.370      0.000       0.972       1.028\n",
      "==============================================================================\n",
      "Omnibus:                       23.364   Durbin-Watson:                   1.780\n",
      "Prob(Omnibus):                  0.000   Jarque-Bera (JB):               49.201\n",
      "Skew:                          -0.671   Prob(JB):                     2.07e-11\n",
      "Kurtosis:                       5.464   Cond. No.                         53.2\n",
      "==============================================================================\n",
      "\n",
      "Notes:\n",
      "[1] Standard Errors assume that the covariance matrix of the errors is correctly specified.\n",
      "==============================================================================\n",
      "\n",
      "\n",
      "\n",
      "fit method computed in 1.809 seconds\n"
     ]
    },
    {
     "data": {
      "text/plain": [
       "<lestpy.lbm_model.LBM_Regression at 0x7f0527790040>"
      ]
     },
     "execution_count": 13,
     "metadata": {},
     "output_type": "execute_result"
    }
   ],
   "source": [
    "model.fit()"
   ]
  },
  {
   "cell_type": "code",
   "execution_count": 14,
   "metadata": {},
   "outputs": [
    {
     "name": "stdout",
     "output_type": "stream",
     "text": [
      "==============================================================================\n",
      "model for target \"species\"\n",
      "==============================================================================\n",
      "The value of species is high if:\n",
      "   Coefficient                                 Parameter  Std Error\n",
      "0       13.391  Sum of petal_length and petal_width high      0.552\n",
      "1       -2.003   petal_length average if not petal_width      0.217\n",
      "2       -2.663              sepal_length and petal_width      0.586\n",
      "3       -1.601               sepal_width and petal_width      0.386\n",
      "==============================================================================\n",
      "\n",
      "\n",
      "\n"
     ]
    }
   ],
   "source": [
    "model.print_model()"
   ]
  },
  {
   "cell_type": "code",
   "execution_count": 15,
   "metadata": {},
   "outputs": [],
   "source": [
    "graf = lp.Display(model)"
   ]
  },
  {
   "cell_type": "code",
   "execution_count": 16,
   "metadata": {},
   "outputs": [
    {
     "name": "stdout",
     "output_type": "stream",
     "text": [
      "==============================================================================\n",
      "Fitting score for target \"species\"\n",
      "==============================================================================\n",
      "                R²  adj-R²  calc-Q²\n",
      "model score  0.955   0.954    0.951\n",
      "==============================================================================\n"
     ]
    },
    {
     "data": {
      "image/png": "[encoded data removed]",
      "text/plain": [
       "<Figure size 432x288 with 1 Axes>"
      ]
     },
     "metadata": {
      "needs_background": "light"
     },
     "output_type": "display_data"
    },
    {
     "data": {
      "image/png": "[encoded data removed]",
      "text/plain": [
       "<Figure size 432x288 with 1 Axes>"
      ]
     },
     "metadata": {
      "needs_background": "light"
     },
     "output_type": "display_data"
    },
    {
     "data": {
      "image/png": "[encoded data removed]",
      "text/plain": [
       "<Figure size 432x288 with 1 Axes>"
      ]
     },
     "metadata": {
      "needs_background": "light"
     },
     "output_type": "display_data"
    }
   ],
   "source": [
    "graf.describe(X, y)"
   ]
  },
  {
   "cell_type": "code",
   "execution_count": 17,
   "metadata": {},
   "outputs": [
    {
     "data": {
      "text/plain": [
       "{'sepal_length': [None, 4.3, 7.9, None, 'continuous'],\n",
       " 'sepal_width': [None, 2.0, 4.4, None, 'continuous'],\n",
       " 'petal_length': [None, 1.0, 6.9, None, 'continuous'],\n",
       " 'petal_width': [None, 0.1, 2.5, None, 'continuous']}"
      ]
     },
     "execution_count": 17,
     "metadata": {},
     "output_type": "execute_result"
    }
   ],
   "source": [
    "experimental_domain, mix = model.features_analysis(X)\n",
    "experimental_domain"
   ]
  },
  {
   "cell_type": "code",
   "execution_count": 18,
   "metadata": {},
   "outputs": [
    {
     "name": "stdout",
     "output_type": "stream",
     "text": [
      "==============================================================================\n",
      "Sensitivity analysis for response species\n",
      "==============================================================================\n"
     ]
    },
    {
     "data": {
      "image/png": "[encoded data removed]",
      "text/plain": [
       "<Figure size 432x288 with 3 Axes>"
      ]
     },
     "metadata": {
      "needs_background": "light"
     },
     "output_type": "display_data"
    }
   ],
   "source": [
    "graf.sensibility_analysis(experimental_domain)"
   ]
  },
  {
   "cell_type": "code",
   "execution_count": 19,
   "metadata": {},
   "outputs": [
    {
     "name": "stdout",
     "output_type": "stream",
     "text": [
      "size = 100000\n",
      "              Mean of the 5 best results  Best result\n",
      "sepal_length                       6.284        6.430\n",
      "sepal_width                        3.344        3.573\n",
      "petal_length                       4.334        4.328\n",
      "petal_width                        0.103        0.100\n",
      "Predspecies                       -0.212       -0.216\n",
      "desirability                       0.999        1.000\n"
     ]
    }
   ],
   "source": [
    "res = model.optimize(target={'species': 'minimize'}, size=100000)"
   ]
  },
  {
   "cell_type": "code",
   "execution_count": 20,
   "metadata": {},
   "outputs": [
    {
     "data": {
      "text/html": [
       "<div>\n",
       "<style scoped>\n",
       "    .dataframe tbody tr th:only-of-type {\n",
       "        vertical-align: middle;\n",
       "    }\n",
       "\n",
       "    .dataframe tbody tr th {\n",
       "        vertical-align: top;\n",
       "    }\n",
       "\n",
       "    .dataframe thead th {\n",
       "        text-align: right;\n",
       "    }\n",
       "</style>\n",
       "<table border=\"1\" class=\"dataframe\">\n",
       "  <thead>\n",
       "    <tr style=\"text-align: right;\">\n",
       "      <th></th>\n",
       "      <th>sepal_length</th>\n",
       "      <th>sepal_width</th>\n",
       "      <th>petal_length</th>\n",
       "      <th>petal_width</th>\n",
       "    </tr>\n",
       "  </thead>\n",
       "  <tbody>\n",
       "    <tr>\n",
       "      <th>0</th>\n",
       "      <td>5.1</td>\n",
       "      <td>3.5</td>\n",
       "      <td>1.4</td>\n",
       "      <td>0.2</td>\n",
       "    </tr>\n",
       "    <tr>\n",
       "      <th>1</th>\n",
       "      <td>5.9</td>\n",
       "      <td>3.0</td>\n",
       "      <td>5.1</td>\n",
       "      <td>1.8</td>\n",
       "    </tr>\n",
       "  </tbody>\n",
       "</table>\n",
       "</div>"
      ],
      "text/plain": [
       "   sepal_length  sepal_width  petal_length  petal_width\n",
       "0           5.1          3.5           1.4          0.2\n",
       "1           5.9          3.0           5.1          1.8"
      ]
     },
     "execution_count": 20,
     "metadata": {},
     "output_type": "execute_result"
    }
   ],
   "source": [
    "columns = [\"sepal_length\",\t\"sepal_width\",\t\"petal_length\",\t\"petal_width\"]\n",
    "values = [[ 5.1, 3.5, 1.4, 0.2], [5.9, 3.0, 5.1,1.8]]\n",
    "z = pd.DataFrame(values, columns = columns)\n",
    "z"
   ]
  },
  {
   "cell_type": "code",
   "execution_count": 21,
   "metadata": {},
   "outputs": [
    {
     "data": {
      "text/html": [
       "<div>\n",
       "<style scoped>\n",
       "    .dataframe tbody tr th:only-of-type {\n",
       "        vertical-align: middle;\n",
       "    }\n",
       "\n",
       "    .dataframe tbody tr th {\n",
       "        vertical-align: top;\n",
       "    }\n",
       "\n",
       "    .dataframe thead th {\n",
       "        text-align: right;\n",
       "    }\n",
       "</style>\n",
       "<table border=\"1\" class=\"dataframe\">\n",
       "  <thead>\n",
       "    <tr style=\"text-align: right;\">\n",
       "      <th></th>\n",
       "      <th>Predspecies</th>\n",
       "    </tr>\n",
       "  </thead>\n",
       "  <tbody>\n",
       "    <tr>\n",
       "      <th>0</th>\n",
       "      <td>-0.031773</td>\n",
       "    </tr>\n",
       "    <tr>\n",
       "      <th>1</th>\n",
       "      <td>1.772601</td>\n",
       "    </tr>\n",
       "  </tbody>\n",
       "</table>\n",
       "</div>"
      ],
      "text/plain": [
       "   Predspecies\n",
       "0    -0.031773\n",
       "1     1.772601"
      ]
     },
     "execution_count": 21,
     "metadata": {},
     "output_type": "execute_result"
    }
   ],
   "source": [
    "model.predict(z)"
   ]
  },
  {
   "cell_type": "code",
   "execution_count": 22,
   "metadata": {},
   "outputs": [],
   "source": [
    "OL = lp.Outliers_Inspection(model)"
   ]
  },
  {
   "cell_type": "code",
   "execution_count": 23,
   "metadata": {},
   "outputs": [
    {
     "name": "stdout",
     "output_type": "stream",
     "text": [
      "<!> in development <!>\n",
      "threshold (4/n) = 0.027\n",
      "potential outliers : [(68, 0.02940005215205434), (70, 0.08271956505662655), (72, 0.046762499364813366), (83, 0.09047163805005097), (100, 0.040392696538439285), (106, 0.07556256441760956), (118, 0.23363640260851062), (119, 0.0410038209891662), (131, 0.05916639213303374)]\n"
     ]
    },
    {
     "data": {
      "image/png": "[encoded data removed]",
      "text/plain": [
       "<Figure size 432x288 with 1 Axes>"
      ]
     },
     "metadata": {
      "needs_background": "light"
     },
     "output_type": "display_data"
    },
    {
     "name": "stdout",
     "output_type": "stream",
     "text": [
      "==================================================================================================\n",
      "       obs      endog     fitted     Cook's   student.   hat diag    dffits   ext.stud.     dffits\n",
      "                           value          d   residual              internal   residual           \n",
      "--------------------------------------------------------------------------------------------------\n",
      "         0      0.000     -0.032      0.000      0.182      0.021      0.026      0.181      0.026\n",
      "         1      0.000     -0.022      0.000      0.127      0.021      0.018      0.127      0.018\n",
      "         2      0.000     -0.050      0.000      0.289      0.021      0.043      0.288      0.042\n",
      "         3      0.000      0.007      0.000     -0.038      0.020     -0.005     -0.038     -0.005\n",
      "         4      0.000     -0.032      0.000      0.184      0.021      0.027      0.184      0.027\n",
      "         5      0.000      0.118      0.002     -0.674      0.020     -0.096     -0.672     -0.095\n",
      "         6      0.000      0.030      0.000     -0.170      0.020     -0.024     -0.169     -0.024\n",
      "         7      0.000     -0.002      0.000      0.012      0.020      0.002      0.012      0.002\n",
      "         8      0.000     -0.015      0.000      0.088      0.020      0.013      0.088      0.013\n",
      "         9      0.000     -0.053      0.000      0.301      0.022      0.045      0.300      0.045\n",
      "        10      0.000     -0.011      0.000      0.062      0.020      0.009      0.062      0.009\n",
      "        11      0.000      0.027      0.000     -0.153      0.019     -0.021     -0.153     -0.021\n",
      "        12      0.000     -0.079      0.001      0.455      0.023      0.069      0.454      0.069\n",
      "        13      0.000     -0.162      0.005      0.928      0.026      0.150      0.928      0.150\n",
      "        14      0.000     -0.102      0.002      0.583      0.023      0.090      0.581      0.089\n",
      "        15      0.000      0.032      0.000     -0.183      0.026     -0.030     -0.182     -0.030\n",
      "        16      0.000      0.009      0.000     -0.049      0.023     -0.008     -0.049     -0.008\n",
      "        17      0.000      0.016      0.000     -0.091      0.020     -0.013     -0.091     -0.013\n",
      "        18      0.000      0.075      0.001     -0.429      0.018     -0.058     -0.428     -0.058\n",
      "        19      0.000      0.034      0.000     -0.196      0.020     -0.028     -0.196     -0.028\n",
      "        20      0.000      0.047      0.000     -0.268      0.018     -0.037     -0.267     -0.036\n",
      "        21      0.000      0.082      0.001     -0.471      0.020     -0.068     -0.469     -0.068\n",
      "        22      0.000     -0.139      0.003      0.795      0.024      0.125      0.794      0.125\n",
      "        23      0.000      0.205      0.005     -1.174      0.018     -0.158     -1.175     -0.159\n",
      "        24      0.000      0.105      0.001     -0.600      0.017     -0.079     -0.598     -0.079\n",
      "        25      0.000      0.031      0.000     -0.175      0.019     -0.024     -0.174     -0.024\n",
      "        26      0.000      0.126      0.002     -0.720      0.018     -0.098     -0.719     -0.098\n",
      "        27      0.000     -0.006      0.000      0.033      0.020      0.005      0.033      0.005\n",
      "        28      0.000     -0.031      0.000      0.180      0.021      0.026      0.179      0.026\n",
      "        29      0.000      0.031      0.000     -0.176      0.019     -0.024     -0.176     -0.024\n",
      "        30      0.000      0.031      0.000     -0.179      0.019     -0.025     -0.178     -0.025\n",
      "        31      0.000      0.086      0.001     -0.491      0.019     -0.068     -0.490     -0.068\n",
      "        32      0.000     -0.053      0.000      0.301      0.022      0.045      0.300      0.045\n",
      "        33      0.000     -0.046      0.000      0.266      0.021      0.039      0.265      0.039\n",
      "        34      0.000      0.003      0.000     -0.019      0.020     -0.003     -0.019     -0.003\n",
      "        35      0.000     -0.081      0.001      0.465      0.022      0.070      0.464      0.070\n",
      "        36      0.000     -0.063      0.001      0.363      0.022      0.054      0.362      0.054\n",
      "        37      0.000     -0.079      0.001      0.455      0.023      0.069      0.454      0.069\n",
      "        38      0.000     -0.044      0.000      0.253      0.021      0.037      0.252      0.037\n",
      "        39      0.000     -0.003      0.000      0.018      0.020      0.003      0.018      0.003\n",
      "        40      0.000     -0.009      0.000      0.054      0.021      0.008      0.054      0.008\n",
      "        41      0.000      0.037      0.000     -0.211      0.020     -0.030     -0.210     -0.030\n",
      "        42      0.000     -0.047      0.000      0.270      0.021      0.040      0.269      0.040\n",
      "        43      0.000      0.220      0.008     -1.260      0.023     -0.195     -1.263     -0.196\n",
      "        44      0.000      0.185      0.004     -1.055      0.018     -0.145     -1.055     -0.145\n",
      "        45      0.000      0.037      0.000     -0.213      0.019     -0.030     -0.212     -0.030\n",
      "        46      0.000      0.018      0.000     -0.101      0.019     -0.014     -0.101     -0.014\n",
      "        47      0.000     -0.022      0.000      0.126      0.020      0.018      0.125      0.018\n",
      "        48      0.000     -0.010      0.000      0.056      0.020      0.008      0.056      0.008\n",
      "        49      0.000     -0.028      0.000      0.159      0.021      0.023      0.158      0.023\n",
      "        50      1.000      1.059      0.001     -0.340      0.032     -0.062     -0.339     -0.061\n",
      "        51      1.000      1.033      0.000     -0.190      0.038     -0.038     -0.189     -0.038\n",
      "        52      1.000      1.302      0.009     -1.724      0.014     -0.208     -1.736     -0.210\n",
      "        53      1.000      1.133      0.003     -0.764      0.028     -0.130     -0.763     -0.130\n",
      "        54      1.000      1.190      0.006     -1.087      0.023     -0.167     -1.088     -0.167\n",
      "        55      1.000      1.039      0.000     -0.224      0.036     -0.043     -0.224     -0.043\n",
      "        56      1.000      1.269      0.013     -1.546      0.026     -0.253     -1.553     -0.254\n",
      "        57      1.000      0.975      0.000      0.145      0.029      0.025      0.144      0.025\n",
      "        58      1.000      1.006      0.000     -0.033      0.033     -0.006     -0.033     -0.006\n",
      "        59      1.000      1.208      0.008     -1.192      0.028     -0.202     -1.194     -0.203\n",
      "        60      1.000      1.036      0.000     -0.207      0.038     -0.041     -0.207     -0.041\n",
      "        61      1.000      1.055      0.001     -0.319      0.028     -0.054     -0.318     -0.054\n",
      "        62      1.000      0.830      0.008      0.982      0.042      0.205      0.982      0.205\n",
      "        63      1.000      1.242      0.006     -1.384      0.015     -0.172     -1.388     -0.172\n",
      "        64      1.000      1.056      0.000     -0.317      0.014     -0.038     -0.316     -0.038\n",
      "        65      1.000      0.857      0.009      0.838      0.062      0.215      0.837      0.215\n",
      "        66      1.000      1.195      0.009     -1.122      0.035     -0.212     -1.123     -0.213\n",
      "        67      1.000      0.731      0.023      1.561      0.044      0.336      1.569      0.338\n",
      "        68      1.000      1.270      0.029     -1.574      0.056     -0.383     -1.582     -0.385\n",
      "        69      1.000      0.949      0.000      0.294      0.020      0.042      0.293      0.042\n",
      "        70      1.000      1.563      0.083     -3.253      0.038     -0.643     -3.367     -0.666\n",
      "        71      1.000      0.967      0.000      0.190      0.018      0.025      0.189      0.025\n",
      "        72      1.000      1.517      0.047     -2.965      0.026     -0.484     -3.049     -0.497\n",
      "        73      1.000      1.111      0.002     -0.635      0.021     -0.093     -0.634     -0.093\n",
      "        74      1.000      0.820      0.014      1.053      0.058      0.262      1.053      0.262\n",
      "        75      1.000      0.890      0.005      0.642      0.056      0.156      0.641      0.155\n",
      "        76      1.000      1.247      0.008     -1.413      0.020     -0.203     -1.418     -0.204\n",
      "        77      1.000      1.524      0.020     -2.982      0.011     -0.318     -3.068     -0.328\n",
      "        78      1.000      1.155      0.004     -0.890      0.024     -0.140     -0.889     -0.140\n",
      "        79      1.000      0.888      0.001      0.636      0.012      0.069      0.635      0.069\n",
      "        80      1.000      0.996      0.000      0.024      0.020      0.003      0.024      0.003\n",
      "        81      1.000      0.931      0.001      0.397      0.019      0.055      0.395      0.054\n",
      "        82      1.000      0.973      0.000      0.154      0.015      0.019      0.154      0.019\n",
      "        83      1.000      1.702      0.090     -4.030      0.027     -0.673     -4.262     -0.711\n",
      "        84      1.000      1.225      0.015     -1.301      0.043     -0.274     -1.304     -0.275\n",
      "        85      1.000      1.131      0.007     -0.760      0.054     -0.181     -0.759     -0.181\n",
      "        86      1.000      1.185      0.005     -1.057      0.020     -0.150     -1.057     -0.150\n",
      "        87      1.000      0.970      0.000      0.174      0.069      0.047      0.174      0.047\n",
      "        88      1.000      0.960      0.000      0.229      0.032      0.041      0.228      0.041\n",
      "        89      1.000      1.097      0.001     -0.558      0.022     -0.084     -0.557     -0.083\n",
      "        90      1.000      0.920      0.002      0.466      0.053      0.111      0.464      0.110\n",
      "        91      1.000      1.130      0.003     -0.748      0.023     -0.114     -0.746     -0.113\n",
      "        92      1.000      0.959      0.000      0.232      0.021      0.034      0.231      0.034\n",
      "        93      1.000      0.978      0.000      0.124      0.028      0.021      0.123      0.021\n",
      "        94      1.000      0.975      0.000      0.141      0.035      0.027      0.141      0.027\n",
      "        95      1.000      0.821      0.011      1.038      0.049      0.234      1.038      0.234\n",
      "        96      1.000      0.927      0.001      0.421      0.038      0.084      0.420      0.083\n",
      "        97      1.000      0.845      0.009      0.900      0.053      0.212      0.899      0.212\n",
      "        98      1.000      0.962      0.000      0.218      0.024      0.034      0.217      0.034\n",
      "        99      1.000      0.983      0.000      0.099      0.025      0.016      0.098      0.016\n",
      "       100      2.000      2.270      0.040     -1.587      0.074     -0.449     -1.595     -0.452\n",
      "       101      2.000      1.932      0.001      0.391      0.043      0.083      0.390      0.082\n",
      "       102      2.000      1.985      0.000      0.086      0.034      0.016      0.085      0.016\n",
      "       103      2.000      1.932      0.001      0.393      0.028      0.067      0.392      0.067\n",
      "       104      2.000      2.125      0.003     -0.720      0.027     -0.119     -0.719     -0.119\n",
      "       105      2.000      2.109      0.006     -0.641      0.068     -0.173     -0.640     -0.172\n",
      "       106      2.000      1.612      0.076      2.278      0.068      0.615      2.312      0.624\n",
      "       107      2.000      1.998      0.000      0.010      0.038      0.002      0.010      0.002\n",
      "       108      2.000      2.033      0.000     -0.193      0.060     -0.049     -0.192     -0.048\n",
      "       109      2.000      1.962      0.001      0.226      0.110      0.079      0.226      0.079\n",
      "       110      2.000      1.715      0.012      1.632      0.023      0.249      1.642      0.250\n",
      "       111      2.000      1.901      0.002      0.569      0.027      0.095      0.568      0.095\n",
      "       112      2.000      1.911      0.001      0.509      0.022      0.077      0.508      0.077\n",
      "       113      2.000      2.032      0.000     -0.185      0.059     -0.046     -0.184     -0.046\n",
      "       114      2.000      2.229      0.022     -1.337      0.058     -0.332     -1.341     -0.333\n",
      "       115      2.000      1.962      0.000      0.217      0.038      0.043      0.216      0.043\n",
      "       116      2.000      1.832      0.003      0.963      0.018      0.131      0.963      0.131\n",
      "       117      2.000      1.900      0.009      0.599      0.113      0.214      0.598      0.214\n",
      "       118      2.000      2.371      0.234     -2.320      0.178     -1.081     -2.356     -1.098\n",
      "       119      2.000      1.686      0.041      1.834      0.057      0.453      1.849      0.457\n",
      "       120      2.000      1.978      0.000      0.124      0.035      0.024      0.124      0.024\n",
      "       121      2.000      1.921      0.002      0.458      0.052      0.107      0.457      0.106\n",
      "       122      2.000      2.148      0.016     -0.880      0.093     -0.282     -0.880     -0.282\n",
      "       123      2.000      1.674      0.012      1.862      0.017      0.244      1.878      0.246\n",
      "       124      2.000      1.914      0.002      0.495      0.032      0.090      0.494      0.090\n",
      "       125      2.000      1.837      0.004      0.933      0.021      0.137      0.932      0.136\n",
      "       126      2.000      1.609      0.012      2.227      0.012      0.245      2.258      0.249\n",
      "       127      2.000      1.635      0.016      2.085      0.018      0.279      2.110      0.282\n",
      "       128      2.000      2.092      0.002     -0.527      0.030     -0.092     -0.525     -0.092\n",
      "       129      2.000      1.740      0.009      1.487      0.021      0.216      1.493      0.217\n",
      "       130      2.000      1.973      0.000      0.157      0.059      0.039      0.157      0.039\n",
      "       131      2.000      1.727      0.059      1.628      0.100      0.544      1.638      0.547\n",
      "       132      2.000      2.143      0.004     -0.821      0.031     -0.147     -0.820     -0.147\n",
      "       133      2.000      1.572      0.019      2.444      0.016      0.308      2.487      0.313\n",
      "       134      2.000      1.815      0.012      1.077      0.048      0.242      1.077      0.242\n",
      "       135      2.000      1.985      0.000      0.091      0.115      0.033      0.091      0.033\n",
      "       136      2.000      2.065      0.003     -0.387      0.083     -0.116     -0.385     -0.116\n",
      "       137      2.000      1.825      0.005      1.004      0.022      0.151      1.004      0.151\n",
      "       138      2.000      1.596      0.021      2.313      0.019      0.324      2.349      0.329\n",
      "       139      2.000      1.824      0.005      1.009      0.025      0.162      1.009      0.162\n",
      "       140      2.000      2.069      0.001     -0.394      0.030     -0.070     -0.393     -0.070\n",
      "       141      2.000      1.807      0.010      1.115      0.037      0.219      1.116      0.219\n",
      "       142      2.000      1.932      0.001      0.391      0.043      0.083      0.390      0.082\n",
      "       143      2.000      2.068      0.001     -0.389      0.032     -0.071     -0.388     -0.071\n",
      "       144      2.000      2.072      0.002     -0.421      0.052     -0.098     -0.419     -0.098\n",
      "       145      2.000      1.922      0.001      0.448      0.026      0.073      0.447      0.073\n",
      "       146      2.000      1.843      0.006      0.907      0.038      0.179      0.906      0.179\n",
      "       147      2.000      1.813      0.004      1.070      0.016      0.137      1.070      0.137\n",
      "       148      2.000      1.979      0.000      0.126      0.083      0.038      0.125      0.038\n",
      "       149      2.000      1.773      0.012      1.311      0.035      0.249      1.314      0.249\n",
      "==================================================================================================\n"
     ]
    }
   ],
   "source": [
    "OL.cooks_distance()"
   ]
  },
  {
   "cell_type": "code",
   "execution_count": 24,
   "metadata": {},
   "outputs": [
    {
     "name": "stdout",
     "output_type": "stream",
     "text": [
      "<!> in development <!>\n"
     ]
    },
    {
     "data": {
      "image/png": "[encoded data removed]",
      "text/plain": [
       "<Figure size 432x288 with 1 Axes>"
      ]
     },
     "metadata": {
      "needs_background": "light"
     },
     "output_type": "display_data"
    }
   ],
   "source": [
    "OL.mahalanobis_distance()"
   ]
  },
  {
   "cell_type": "code",
   "execution_count": null,
   "metadata": {},
   "outputs": [],
   "source": []
  },
  {
   "cell_type": "code",
   "execution_count": null,
   "metadata": {},
   "outputs": [],
   "source": []
  },
  {
   "cell_type": "code",
   "execution_count": 25,
   "metadata": {},
   "outputs": [
    {
     "name": "stdout",
     "output_type": "stream",
     "text": [
      "The name is: Fruitas\n"
     ]
    }
   ],
   "source": [
    "class Fruit:\n",
    "    name = 'Fruitas'\n",
    "\n",
    "    def printName(cls):\n",
    "            print('The name is:', cls.name)\n",
    "\n",
    "Fruit.printAge = classmethod(Fruit.printName)\n",
    "Fruit.printAge()"
   ]
  },
  {
   "cell_type": "code",
   "execution_count": null,
   "metadata": {},
   "outputs": [],
   "source": []
  }
 ],
 "metadata": {
  "interpreter": {
   "hash": "31f2aee4e71d21fbe5cf8b01ff0e069b9275f58929596ceb00d14d90e3e16cd6"
  },
  "kernelspec": {
   "display_name": "Python 3.8.10 64-bit",
   "language": "python",
   "name": "python3"
  },
  "language_info": {
   "codemirror_mode": {
    "name": "ipython",
    "version": 3
   },
   "file_extension": ".py",
   "mimetype": "text/x-python",
   "name": "python",
   "nbconvert_exporter": "python",
   "pygments_lexer": "ipython3",
   "version": "3.10.4"
  },
  "orig_nbformat": 4
 },
 "nbformat": 4,
 "nbformat_minor": 2
}
