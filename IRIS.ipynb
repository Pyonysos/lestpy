{
 "cells": [
  {
   "cell_type": "code",
   "execution_count": 1,
   "metadata": {},
   "outputs": [],
   "source": [
    "# pip install seaborn\n",
    "# pip install pandas\n",
    "# pip install lestpy"
   ]
  },
  {
   "cell_type": "code",
   "execution_count": 2,
   "metadata": {},
   "outputs": [],
   "source": [
    "import seaborn as sns\n",
    "import pandas as pd\n",
    "from lestpy import lbm_model as lp"
   ]
  },
  {
   "cell_type": "markdown",
   "metadata": {},
   "source": [
    "# 1. Les données"
   ]
  },
  {
   "cell_type": "markdown",
   "metadata": {},
   "source": [
    "## 1.1 Import des données"
   ]
  },
  {
   "cell_type": "code",
   "execution_count": 3,
   "metadata": {},
   "outputs": [],
   "source": [
    "df = sns.load_dataset('iris')\n",
    "#df = pd.read_csv('C:/Users/TTfr/Documents/Python/formation_python/iris.csv')"
   ]
  },
  {
   "cell_type": "markdown",
   "metadata": {},
   "source": [
    "## 1.2 Visualisation rapide des données"
   ]
  },
  {
   "cell_type": "code",
   "execution_count": 4,
   "metadata": {},
   "outputs": [
    {
     "data": {
      "text/html": [
       "<div>\n",
       "<style scoped>\n",
       "    .dataframe tbody tr th:only-of-type {\n",
       "        vertical-align: middle;\n",
       "    }\n",
       "\n",
       "    .dataframe tbody tr th {\n",
       "        vertical-align: top;\n",
       "    }\n",
       "\n",
       "    .dataframe thead th {\n",
       "        text-align: right;\n",
       "    }\n",
       "</style>\n",
       "<table border=\"1\" class=\"dataframe\">\n",
       "  <thead>\n",
       "    <tr style=\"text-align: right;\">\n",
       "      <th></th>\n",
       "      <th>sepal_length</th>\n",
       "      <th>sepal_width</th>\n",
       "      <th>petal_length</th>\n",
       "      <th>petal_width</th>\n",
       "      <th>species</th>\n",
       "    </tr>\n",
       "  </thead>\n",
       "  <tbody>\n",
       "    <tr>\n",
       "      <th>0</th>\n",
       "      <td>5.1</td>\n",
       "      <td>3.5</td>\n",
       "      <td>1.4</td>\n",
       "      <td>0.2</td>\n",
       "      <td>setosa</td>\n",
       "    </tr>\n",
       "    <tr>\n",
       "      <th>1</th>\n",
       "      <td>4.9</td>\n",
       "      <td>3.0</td>\n",
       "      <td>1.4</td>\n",
       "      <td>0.2</td>\n",
       "      <td>setosa</td>\n",
       "    </tr>\n",
       "    <tr>\n",
       "      <th>2</th>\n",
       "      <td>4.7</td>\n",
       "      <td>3.2</td>\n",
       "      <td>1.3</td>\n",
       "      <td>0.2</td>\n",
       "      <td>setosa</td>\n",
       "    </tr>\n",
       "    <tr>\n",
       "      <th>3</th>\n",
       "      <td>4.6</td>\n",
       "      <td>3.1</td>\n",
       "      <td>1.5</td>\n",
       "      <td>0.2</td>\n",
       "      <td>setosa</td>\n",
       "    </tr>\n",
       "    <tr>\n",
       "      <th>4</th>\n",
       "      <td>5.0</td>\n",
       "      <td>3.6</td>\n",
       "      <td>1.4</td>\n",
       "      <td>0.2</td>\n",
       "      <td>setosa</td>\n",
       "    </tr>\n",
       "  </tbody>\n",
       "</table>\n",
       "</div>"
      ],
      "text/plain": [
       "   sepal_length  sepal_width  petal_length  petal_width species\n",
       "0           5.1          3.5           1.4          0.2  setosa\n",
       "1           4.9          3.0           1.4          0.2  setosa\n",
       "2           4.7          3.2           1.3          0.2  setosa\n",
       "3           4.6          3.1           1.5          0.2  setosa\n",
       "4           5.0          3.6           1.4          0.2  setosa"
      ]
     },
     "execution_count": 4,
     "metadata": {},
     "output_type": "execute_result"
    }
   ],
   "source": [
    "df.head(5)"
   ]
  },
  {
   "cell_type": "code",
   "execution_count": 5,
   "metadata": {},
   "outputs": [
    {
     "data": {
      "text/html": [
       "<div>\n",
       "<style scoped>\n",
       "    .dataframe tbody tr th:only-of-type {\n",
       "        vertical-align: middle;\n",
       "    }\n",
       "\n",
       "    .dataframe tbody tr th {\n",
       "        vertical-align: top;\n",
       "    }\n",
       "\n",
       "    .dataframe thead th {\n",
       "        text-align: right;\n",
       "    }\n",
       "</style>\n",
       "<table border=\"1\" class=\"dataframe\">\n",
       "  <thead>\n",
       "    <tr style=\"text-align: right;\">\n",
       "      <th></th>\n",
       "      <th>sepal_length</th>\n",
       "      <th>sepal_width</th>\n",
       "      <th>petal_length</th>\n",
       "      <th>petal_width</th>\n",
       "    </tr>\n",
       "  </thead>\n",
       "  <tbody>\n",
       "    <tr>\n",
       "      <th>count</th>\n",
       "      <td>150.000000</td>\n",
       "      <td>150.000000</td>\n",
       "      <td>150.000000</td>\n",
       "      <td>150.000000</td>\n",
       "    </tr>\n",
       "    <tr>\n",
       "      <th>mean</th>\n",
       "      <td>5.843333</td>\n",
       "      <td>3.057333</td>\n",
       "      <td>3.758000</td>\n",
       "      <td>1.199333</td>\n",
       "    </tr>\n",
       "    <tr>\n",
       "      <th>std</th>\n",
       "      <td>0.828066</td>\n",
       "      <td>0.435866</td>\n",
       "      <td>1.765298</td>\n",
       "      <td>0.762238</td>\n",
       "    </tr>\n",
       "    <tr>\n",
       "      <th>min</th>\n",
       "      <td>4.300000</td>\n",
       "      <td>2.000000</td>\n",
       "      <td>1.000000</td>\n",
       "      <td>0.100000</td>\n",
       "    </tr>\n",
       "    <tr>\n",
       "      <th>25%</th>\n",
       "      <td>5.100000</td>\n",
       "      <td>2.800000</td>\n",
       "      <td>1.600000</td>\n",
       "      <td>0.300000</td>\n",
       "    </tr>\n",
       "    <tr>\n",
       "      <th>50%</th>\n",
       "      <td>5.800000</td>\n",
       "      <td>3.000000</td>\n",
       "      <td>4.350000</td>\n",
       "      <td>1.300000</td>\n",
       "    </tr>\n",
       "    <tr>\n",
       "      <th>75%</th>\n",
       "      <td>6.400000</td>\n",
       "      <td>3.300000</td>\n",
       "      <td>5.100000</td>\n",
       "      <td>1.800000</td>\n",
       "    </tr>\n",
       "    <tr>\n",
       "      <th>max</th>\n",
       "      <td>7.900000</td>\n",
       "      <td>4.400000</td>\n",
       "      <td>6.900000</td>\n",
       "      <td>2.500000</td>\n",
       "    </tr>\n",
       "  </tbody>\n",
       "</table>\n",
       "</div>"
      ],
      "text/plain": [
       "       sepal_length  sepal_width  petal_length  petal_width\n",
       "count    150.000000   150.000000    150.000000   150.000000\n",
       "mean       5.843333     3.057333      3.758000     1.199333\n",
       "std        0.828066     0.435866      1.765298     0.762238\n",
       "min        4.300000     2.000000      1.000000     0.100000\n",
       "25%        5.100000     2.800000      1.600000     0.300000\n",
       "50%        5.800000     3.000000      4.350000     1.300000\n",
       "75%        6.400000     3.300000      5.100000     1.800000\n",
       "max        7.900000     4.400000      6.900000     2.500000"
      ]
     },
     "execution_count": 5,
     "metadata": {},
     "output_type": "execute_result"
    }
   ],
   "source": [
    "df.describe()"
   ]
  },
  {
   "cell_type": "code",
   "execution_count": 6,
   "metadata": {},
   "outputs": [],
   "source": [
    "#sns.pairplot(df, hue='species', palette='viridis')"
   ]
  },
  {
   "cell_type": "code",
   "execution_count": 7,
   "metadata": {},
   "outputs": [
    {
     "data": {
      "text/html": [
       "<div>\n",
       "<style scoped>\n",
       "    .dataframe tbody tr th:only-of-type {\n",
       "        vertical-align: middle;\n",
       "    }\n",
       "\n",
       "    .dataframe tbody tr th {\n",
       "        vertical-align: top;\n",
       "    }\n",
       "\n",
       "    .dataframe thead th {\n",
       "        text-align: right;\n",
       "    }\n",
       "</style>\n",
       "<table border=\"1\" class=\"dataframe\">\n",
       "  <thead>\n",
       "    <tr style=\"text-align: right;\">\n",
       "      <th></th>\n",
       "      <th>sepal_length</th>\n",
       "      <th>sepal_width</th>\n",
       "      <th>petal_length</th>\n",
       "      <th>petal_width</th>\n",
       "      <th>species</th>\n",
       "    </tr>\n",
       "  </thead>\n",
       "  <tbody>\n",
       "    <tr>\n",
       "      <th>0</th>\n",
       "      <td>5.1</td>\n",
       "      <td>3.5</td>\n",
       "      <td>1.4</td>\n",
       "      <td>0.2</td>\n",
       "      <td>0</td>\n",
       "    </tr>\n",
       "    <tr>\n",
       "      <th>1</th>\n",
       "      <td>4.9</td>\n",
       "      <td>3.0</td>\n",
       "      <td>1.4</td>\n",
       "      <td>0.2</td>\n",
       "      <td>0</td>\n",
       "    </tr>\n",
       "    <tr>\n",
       "      <th>2</th>\n",
       "      <td>4.7</td>\n",
       "      <td>3.2</td>\n",
       "      <td>1.3</td>\n",
       "      <td>0.2</td>\n",
       "      <td>0</td>\n",
       "    </tr>\n",
       "    <tr>\n",
       "      <th>3</th>\n",
       "      <td>4.6</td>\n",
       "      <td>3.1</td>\n",
       "      <td>1.5</td>\n",
       "      <td>0.2</td>\n",
       "      <td>0</td>\n",
       "    </tr>\n",
       "    <tr>\n",
       "      <th>4</th>\n",
       "      <td>5.0</td>\n",
       "      <td>3.6</td>\n",
       "      <td>1.4</td>\n",
       "      <td>0.2</td>\n",
       "      <td>0</td>\n",
       "    </tr>\n",
       "    <tr>\n",
       "      <th>...</th>\n",
       "      <td>...</td>\n",
       "      <td>...</td>\n",
       "      <td>...</td>\n",
       "      <td>...</td>\n",
       "      <td>...</td>\n",
       "    </tr>\n",
       "    <tr>\n",
       "      <th>145</th>\n",
       "      <td>6.7</td>\n",
       "      <td>3.0</td>\n",
       "      <td>5.2</td>\n",
       "      <td>2.3</td>\n",
       "      <td>2</td>\n",
       "    </tr>\n",
       "    <tr>\n",
       "      <th>146</th>\n",
       "      <td>6.3</td>\n",
       "      <td>2.5</td>\n",
       "      <td>5.0</td>\n",
       "      <td>1.9</td>\n",
       "      <td>2</td>\n",
       "    </tr>\n",
       "    <tr>\n",
       "      <th>147</th>\n",
       "      <td>6.5</td>\n",
       "      <td>3.0</td>\n",
       "      <td>5.2</td>\n",
       "      <td>2.0</td>\n",
       "      <td>2</td>\n",
       "    </tr>\n",
       "    <tr>\n",
       "      <th>148</th>\n",
       "      <td>6.2</td>\n",
       "      <td>3.4</td>\n",
       "      <td>5.4</td>\n",
       "      <td>2.3</td>\n",
       "      <td>2</td>\n",
       "    </tr>\n",
       "    <tr>\n",
       "      <th>149</th>\n",
       "      <td>5.9</td>\n",
       "      <td>3.0</td>\n",
       "      <td>5.1</td>\n",
       "      <td>1.8</td>\n",
       "      <td>2</td>\n",
       "    </tr>\n",
       "  </tbody>\n",
       "</table>\n",
       "<p>150 rows × 5 columns</p>\n",
       "</div>"
      ],
      "text/plain": [
       "     sepal_length  sepal_width  petal_length  petal_width species\n",
       "0             5.1          3.5           1.4          0.2       0\n",
       "1             4.9          3.0           1.4          0.2       0\n",
       "2             4.7          3.2           1.3          0.2       0\n",
       "3             4.6          3.1           1.5          0.2       0\n",
       "4             5.0          3.6           1.4          0.2       0\n",
       "..            ...          ...           ...          ...     ...\n",
       "145           6.7          3.0           5.2          2.3       2\n",
       "146           6.3          2.5           5.0          1.9       2\n",
       "147           6.5          3.0           5.2          2.0       2\n",
       "148           6.2          3.4           5.4          2.3       2\n",
       "149           5.9          3.0           5.1          1.8       2\n",
       "\n",
       "[150 rows x 5 columns]"
      ]
     },
     "execution_count": 7,
     "metadata": {},
     "output_type": "execute_result"
    }
   ],
   "source": [
    "for num, species in enumerate(df.species.unique()):\n",
    "    df['species'][df['species'] == species] = num\n",
    "df"
   ]
  },
  {
   "cell_type": "code",
   "execution_count": 8,
   "metadata": {},
   "outputs": [],
   "source": [
    "y = df.pop('species')\n",
    "X = df"
   ]
  },
  {
   "cell_type": "code",
   "execution_count": 9,
   "metadata": {},
   "outputs": [
    {
     "data": {
      "text/html": [
       "<div>\n",
       "<style scoped>\n",
       "    .dataframe tbody tr th:only-of-type {\n",
       "        vertical-align: middle;\n",
       "    }\n",
       "\n",
       "    .dataframe tbody tr th {\n",
       "        vertical-align: top;\n",
       "    }\n",
       "\n",
       "    .dataframe thead th {\n",
       "        text-align: right;\n",
       "    }\n",
       "</style>\n",
       "<table border=\"1\" class=\"dataframe\">\n",
       "  <thead>\n",
       "    <tr style=\"text-align: right;\">\n",
       "      <th></th>\n",
       "      <th>sepal_length</th>\n",
       "      <th>sepal_width</th>\n",
       "      <th>petal_length</th>\n",
       "      <th>petal_width</th>\n",
       "    </tr>\n",
       "  </thead>\n",
       "  <tbody>\n",
       "    <tr>\n",
       "      <th>0</th>\n",
       "      <td>5.1</td>\n",
       "      <td>3.5</td>\n",
       "      <td>1.4</td>\n",
       "      <td>0.2</td>\n",
       "    </tr>\n",
       "    <tr>\n",
       "      <th>1</th>\n",
       "      <td>4.9</td>\n",
       "      <td>3.0</td>\n",
       "      <td>1.4</td>\n",
       "      <td>0.2</td>\n",
       "    </tr>\n",
       "    <tr>\n",
       "      <th>2</th>\n",
       "      <td>4.7</td>\n",
       "      <td>3.2</td>\n",
       "      <td>1.3</td>\n",
       "      <td>0.2</td>\n",
       "    </tr>\n",
       "    <tr>\n",
       "      <th>3</th>\n",
       "      <td>4.6</td>\n",
       "      <td>3.1</td>\n",
       "      <td>1.5</td>\n",
       "      <td>0.2</td>\n",
       "    </tr>\n",
       "    <tr>\n",
       "      <th>4</th>\n",
       "      <td>5.0</td>\n",
       "      <td>3.6</td>\n",
       "      <td>1.4</td>\n",
       "      <td>0.2</td>\n",
       "    </tr>\n",
       "    <tr>\n",
       "      <th>...</th>\n",
       "      <td>...</td>\n",
       "      <td>...</td>\n",
       "      <td>...</td>\n",
       "      <td>...</td>\n",
       "    </tr>\n",
       "    <tr>\n",
       "      <th>145</th>\n",
       "      <td>6.7</td>\n",
       "      <td>3.0</td>\n",
       "      <td>5.2</td>\n",
       "      <td>2.3</td>\n",
       "    </tr>\n",
       "    <tr>\n",
       "      <th>146</th>\n",
       "      <td>6.3</td>\n",
       "      <td>2.5</td>\n",
       "      <td>5.0</td>\n",
       "      <td>1.9</td>\n",
       "    </tr>\n",
       "    <tr>\n",
       "      <th>147</th>\n",
       "      <td>6.5</td>\n",
       "      <td>3.0</td>\n",
       "      <td>5.2</td>\n",
       "      <td>2.0</td>\n",
       "    </tr>\n",
       "    <tr>\n",
       "      <th>148</th>\n",
       "      <td>6.2</td>\n",
       "      <td>3.4</td>\n",
       "      <td>5.4</td>\n",
       "      <td>2.3</td>\n",
       "    </tr>\n",
       "    <tr>\n",
       "      <th>149</th>\n",
       "      <td>5.9</td>\n",
       "      <td>3.0</td>\n",
       "      <td>5.1</td>\n",
       "      <td>1.8</td>\n",
       "    </tr>\n",
       "  </tbody>\n",
       "</table>\n",
       "<p>150 rows × 4 columns</p>\n",
       "</div>"
      ],
      "text/plain": [
       "     sepal_length  sepal_width  petal_length  petal_width\n",
       "0             5.1          3.5           1.4          0.2\n",
       "1             4.9          3.0           1.4          0.2\n",
       "2             4.7          3.2           1.3          0.2\n",
       "3             4.6          3.1           1.5          0.2\n",
       "4             5.0          3.6           1.4          0.2\n",
       "..            ...          ...           ...          ...\n",
       "145           6.7          3.0           5.2          2.3\n",
       "146           6.3          2.5           5.0          1.9\n",
       "147           6.5          3.0           5.2          2.0\n",
       "148           6.2          3.4           5.4          2.3\n",
       "149           5.9          3.0           5.1          1.8\n",
       "\n",
       "[150 rows x 4 columns]"
      ]
     },
     "execution_count": 9,
     "metadata": {},
     "output_type": "execute_result"
    }
   ],
   "source": [
    "X"
   ]
  },
  {
   "cell_type": "code",
   "execution_count": 10,
   "metadata": {},
   "outputs": [
    {
     "name": "stdout",
     "output_type": "stream",
     "text": [
      "['X_xor_Y', 'X_or_Y', 'X_or_not_Y', 'X_and_Y', 'X_and_not_Y', 'X_if_Y', 'X_if_not_Y', 'X_if_Y_average', 'X_average_if_Y', 'X_average_if_not_Y', 'Neither_X_nor_Y_extreme', 'both_X_Y_average', 'X_like_Y', 'Sum_X_Y', 'Difference_X_Y', 'experiment']\n"
     ]
    }
   ],
   "source": [
    "func = lambda x,y : x*y\n",
    "interact = lp.InteractionBuilder('experiment', func)"
   ]
  },
  {
   "cell_type": "code",
   "execution_count": null,
   "metadata": {},
   "outputs": [],
   "source": []
  },
  {
   "cell_type": "markdown",
   "metadata": {},
   "source": [
    "# 2. Modele"
   ]
  },
  {
   "cell_type": "code",
   "execution_count": 11,
   "metadata": {},
   "outputs": [],
   "source": [
    "model = lp.LBM_Regression()"
   ]
  },
  {
   "cell_type": "code",
   "execution_count": 12,
   "metadata": {},
   "outputs": [
    {
     "name": "stdout",
     "output_type": "stream",
     "text": [
      "method = variable instant\n",
      "calculated in 0.384 seconds\n"
     ]
    },
    {
     "data": {
      "text/plain": [
       "<lestpy.lbm_model.LBM_Regression at 0x64509a0>"
      ]
     },
     "execution_count": 12,
     "metadata": {},
     "output_type": "execute_result"
    }
   ],
   "source": [
    "model.transform(X, y)"
   ]
  },
  {
   "cell_type": "code",
   "execution_count": 13,
   "metadata": {},
   "outputs": [
    {
     "name": "stdout",
     "output_type": "stream",
     "text": [
      "summary of the model for species:\n",
      "                            OLS Regression Results                            \n",
      "==============================================================================\n",
      "Dep. Variable:                      y   R-squared:                       0.954\n",
      "Model:                            OLS   Adj. R-squared:                  0.952\n",
      "Method:                 Least Squares   F-statistic:                     421.7\n",
      "Date:                Tue, 14 Jun 2022   Prob (F-statistic):           1.16e-91\n",
      "Time:                        21:48:42   Log-Likelihood:                 48.679\n",
      "No. Observations:                 150   AIC:                            -81.36\n",
      "Df Residuals:                     142   BIC:                            -57.27\n",
      "Df Model:                           7                                         \n",
      "Covariance Type:            nonrobust                                         \n",
      "================================================================================================================\n",
      "                                                   coef    std err          t      P>|t|      [0.025      0.975]\n",
      "----------------------------------------------------------------------------------------------------------------\n",
      "Sum of petal_length and petal_width high         2.5644      1.921      1.335      0.184      -1.233       6.362\n",
      "sepal_width + petal_width or not petal_width    -3.0212      0.647     -4.667      0.000      -4.301      -1.742\n",
      "both petal_length and petal_width average       -5.0788      0.771     -6.588      0.000      -6.603      -3.555\n",
      "sepal_length and petal_width                    -2.7405      0.751     -3.650      0.000      -4.225      -1.256\n",
      "petal_length if not petal_width                  9.1572      1.965      4.661      0.000       5.273      13.041\n",
      "sepal_length xor sepal_width                    -0.6178      0.216     -2.854      0.005      -1.046      -0.190\n",
      "petal_length if petal_width average             -0.8887      0.353     -2.519      0.013      -1.586      -0.191\n",
      "intercept                                        1.0000      0.015     68.128      0.000       0.971       1.029\n",
      "==============================================================================\n",
      "Omnibus:                        8.861   Durbin-Watson:                   1.688\n",
      "Prob(Omnibus):                  0.012   Jarque-Bera (JB):               18.527\n",
      "Skew:                          -0.045   Prob(JB):                     9.48e-05\n",
      "Kurtosis:                       4.719   Cond. No.                         183.\n",
      "==============================================================================\n",
      "\n",
      "Notes:\n",
      "[1] Standard Errors assume that the covariance matrix of the errors is correctly specified.\n",
      "==============================================================================\n",
      "\n",
      "\n",
      "\n",
      "fit method computed in 1.029 seconds\n"
     ]
    },
    {
     "data": {
      "text/plain": [
       "<lestpy.lbm_model.LBM_Regression at 0x64509a0>"
      ]
     },
     "execution_count": 13,
     "metadata": {},
     "output_type": "execute_result"
    }
   ],
   "source": [
    "model.fit()"
   ]
  },
  {
   "cell_type": "code",
   "execution_count": 14,
   "metadata": {},
   "outputs": [
    {
     "name": "stdout",
     "output_type": "stream",
     "text": [
      "==============================================================================\n",
      "model for target \"species\"\n",
      "==============================================================================\n",
      "The value of species is high if:\n",
      "   Coefficient                                     Parameter  Std Error\n",
      "0        2.564      Sum of petal_length and petal_width high      1.921\n",
      "1       -3.021  sepal_width + petal_width or not petal_width      0.647\n",
      "2       -5.079     both petal_length and petal_width average      0.771\n",
      "3       -2.740                  sepal_length and petal_width      0.751\n",
      "4        9.157               petal_length if not petal_width      1.965\n",
      "5       -0.618                  sepal_length xor sepal_width      0.216\n",
      "6       -0.889           petal_length if petal_width average      0.353\n",
      "==============================================================================\n",
      "\n",
      "\n",
      "\n"
     ]
    }
   ],
   "source": [
    "model.print_model()"
   ]
  },
  {
   "cell_type": "code",
   "execution_count": 15,
   "metadata": {},
   "outputs": [],
   "source": [
    "graf = lp.Display(model)"
   ]
  },
  {
   "cell_type": "code",
   "execution_count": 16,
   "metadata": {},
   "outputs": [
    {
     "name": "stdout",
     "output_type": "stream",
     "text": [
      "==============================================================================\n",
      "Fitting score for target \"species\"\n",
      "==============================================================================\n",
      "                R²  adj-R²  calc-Q²\n",
      "model score  0.954   0.952    0.949\n",
      "==============================================================================\n"
     ]
    },
    {
     "data": {
      "image/png": "[encoded data removed]",
      "text/plain": [
       "<Figure size 432x288 with 2 Axes>"
      ]
     },
     "metadata": {
      "needs_background": "light"
     },
     "output_type": "display_data"
    },
    {
     "data": {
      "image/png": "[encoded data removed]",
      "text/plain": [
       "<Figure size 432x288 with 2 Axes>"
      ]
     },
     "metadata": {
      "needs_background": "light"
     },
     "output_type": "display_data"
    },
    {
     "data": {
      "image/png": "[encoded data removed]",
      "text/plain": [
       "<Figure size 432x288 with 1 Axes>"
      ]
     },
     "metadata": {
      "needs_background": "light"
     },
     "output_type": "display_data"
    }
   ],
   "source": [
    "graf.describe(X, y)"
   ]
  },
  {
   "cell_type": "code",
   "execution_count": 17,
   "metadata": {},
   "outputs": [
    {
     "data": {
      "text/plain": [
       "{'sepal_length': [None, 4.3, 7.9, None, 'continuous'],\n",
       " 'sepal_width': [None, 2.0, 4.4, None, 'continuous'],\n",
       " 'petal_length': [None, 1.0, 6.9, None, 'continuous'],\n",
       " 'petal_width': [None, 0.1, 2.5, None, 'continuous']}"
      ]
     },
     "execution_count": 17,
     "metadata": {},
     "output_type": "execute_result"
    }
   ],
   "source": [
    "experimental_domain, mix = model.features_analysis(X)\n",
    "experimental_domain"
   ]
  },
  {
   "cell_type": "code",
   "execution_count": 18,
   "metadata": {},
   "outputs": [
    {
     "name": "stdout",
     "output_type": "stream",
     "text": [
      "==============================================================================\n",
      "Sensitivity analysis for response species\n",
      "==============================================================================\n"
     ]
    },
    {
     "data": {
      "image/png": "[encoded data removed]",
      "text/plain": [
       "<Figure size 432x288 with 3 Axes>"
      ]
     },
     "metadata": {
      "needs_background": "light"
     },
     "output_type": "display_data"
    }
   ],
   "source": [
    "graf.sensibility_analysis(experimental_domain)"
   ]
  },
  {
   "cell_type": "code",
   "execution_count": 19,
   "metadata": {},
   "outputs": [
    {
     "name": "stdout",
     "output_type": "stream",
     "text": [
      "size = 100000\n",
      "              Mean of the 5 best results  Best result\n",
      "sepal_length                       6.459        7.778\n",
      "sepal_width                        3.002        2.137\n",
      "petal_length                       1.098        1.077\n",
      "petal_width                        0.139        0.111\n",
      "Predspecies                       -0.432       -0.465\n",
      "desirability                       0.993        1.000\n"
     ]
    }
   ],
   "source": [
    "res = model.optimize(target={'species': 'minimize'}, size=100000)"
   ]
  },
  {
   "cell_type": "code",
   "execution_count": 20,
   "metadata": {},
   "outputs": [
    {
     "data": {
      "text/html": [
       "<div>\n",
       "<style scoped>\n",
       "    .dataframe tbody tr th:only-of-type {\n",
       "        vertical-align: middle;\n",
       "    }\n",
       "\n",
       "    .dataframe tbody tr th {\n",
       "        vertical-align: top;\n",
       "    }\n",
       "\n",
       "    .dataframe thead th {\n",
       "        text-align: right;\n",
       "    }\n",
       "</style>\n",
       "<table border=\"1\" class=\"dataframe\">\n",
       "  <thead>\n",
       "    <tr style=\"text-align: right;\">\n",
       "      <th></th>\n",
       "      <th>sepal_length</th>\n",
       "      <th>sepal_width</th>\n",
       "      <th>petal_length</th>\n",
       "      <th>petal_width</th>\n",
       "    </tr>\n",
       "  </thead>\n",
       "  <tbody>\n",
       "    <tr>\n",
       "      <th>0</th>\n",
       "      <td>5.1</td>\n",
       "      <td>3.5</td>\n",
       "      <td>1.4</td>\n",
       "      <td>0.2</td>\n",
       "    </tr>\n",
       "    <tr>\n",
       "      <th>1</th>\n",
       "      <td>5.9</td>\n",
       "      <td>3.0</td>\n",
       "      <td>5.1</td>\n",
       "      <td>1.8</td>\n",
       "    </tr>\n",
       "  </tbody>\n",
       "</table>\n",
       "</div>"
      ],
      "text/plain": [
       "   sepal_length  sepal_width  petal_length  petal_width\n",
       "0           5.1          3.5           1.4          0.2\n",
       "1           5.9          3.0           5.1          1.8"
      ]
     },
     "execution_count": 20,
     "metadata": {},
     "output_type": "execute_result"
    }
   ],
   "source": [
    "columns = [\"sepal_length\",\t\"sepal_width\",\t\"petal_length\",\t\"petal_width\"]\n",
    "values = [[ 5.1, 3.5, 1.4, 0.2], [5.9, 3.0, 5.1,1.8]]\n",
    "z = pd.DataFrame(values, columns = columns)\n",
    "z"
   ]
  },
  {
   "cell_type": "code",
   "execution_count": 21,
   "metadata": {},
   "outputs": [
    {
     "data": {
      "text/html": [
       "<div>\n",
       "<style scoped>\n",
       "    .dataframe tbody tr th:only-of-type {\n",
       "        vertical-align: middle;\n",
       "    }\n",
       "\n",
       "    .dataframe tbody tr th {\n",
       "        vertical-align: top;\n",
       "    }\n",
       "\n",
       "    .dataframe thead th {\n",
       "        text-align: right;\n",
       "    }\n",
       "</style>\n",
       "<table border=\"1\" class=\"dataframe\">\n",
       "  <thead>\n",
       "    <tr style=\"text-align: right;\">\n",
       "      <th></th>\n",
       "      <th>Predspecies</th>\n",
       "    </tr>\n",
       "  </thead>\n",
       "  <tbody>\n",
       "    <tr>\n",
       "      <th>0</th>\n",
       "      <td>-0.052820</td>\n",
       "    </tr>\n",
       "    <tr>\n",
       "      <th>1</th>\n",
       "      <td>1.678726</td>\n",
       "    </tr>\n",
       "  </tbody>\n",
       "</table>\n",
       "</div>"
      ],
      "text/plain": [
       "   Predspecies\n",
       "0    -0.052820\n",
       "1     1.678726"
      ]
     },
     "execution_count": 21,
     "metadata": {},
     "output_type": "execute_result"
    }
   ],
   "source": [
    "model.predict(z)"
   ]
  },
  {
   "cell_type": "code",
   "execution_count": 22,
   "metadata": {},
   "outputs": [],
   "source": [
    "OL = lp.Outliers_Inspection(model)"
   ]
  },
  {
   "cell_type": "code",
   "execution_count": 25,
   "metadata": {},
   "outputs": [
    {
     "name": "stdout",
     "output_type": "stream",
     "text": [
      "<!> in development <!>\n",
      "threshold (4/n) = 0.027\n",
      "potential outliers : [(41, 0.05748404333097631), (68, 0.03625760688617214), (70, 0.042996674519049066), (83, 0.04067625216808658), (100, 0.03785510449429977), (106, 0.028150725474684005), (114, 0.11099831069493217), (118, 0.06591842780896162), (119, 0.028800407125208396), (122, 0.04402484376882201), (129, 0.02716196312107661), (133, 0.030640511117636098), (134, 0.03987005927541148)]\n"
     ]
    },
    {
     "data": {
      "image/png": "[encoded data removed]",
      "text/plain": [
       "<Figure size 432x288 with 1 Axes>"
      ]
     },
     "metadata": {
      "needs_background": "light"
     },
     "output_type": "display_data"
    },
    {
     "name": "stdout",
     "output_type": "stream",
     "text": [
      "==================================================================================================\n",
      "       obs      endog     fitted     Cook's   student.   hat diag    dffits   ext.stud.     dffits\n",
      "                           value          d   residual              internal   residual           \n",
      "--------------------------------------------------------------------------------------------------\n",
      "         0      0.000     -0.053      0.000      0.297      0.023      0.046      0.296      0.045\n",
      "         1      0.000      0.021      0.000     -0.120      0.030     -0.021     -0.120     -0.021\n",
      "         2      0.000     -0.056      0.000      0.317      0.026      0.051      0.316      0.051\n",
      "         3      0.000      0.047      0.000     -0.265      0.024     -0.041     -0.264     -0.041\n",
      "         4      0.000     -0.074      0.001      0.419      0.027      0.071      0.418      0.070\n",
      "         5      0.000      0.055      0.000     -0.309      0.030     -0.055     -0.308     -0.054\n",
      "         6      0.000     -0.019      0.000      0.108      0.026      0.017      0.108      0.017\n",
      "         7      0.000     -0.001      0.000      0.008      0.022      0.001      0.008      0.001\n",
      "         8      0.000      0.057      0.001     -0.321      0.042     -0.068     -0.320     -0.067\n",
      "         9      0.000      0.019      0.000     -0.106      0.031     -0.019     -0.105     -0.019\n",
      "        10      0.000     -0.012      0.000      0.066      0.022      0.010      0.066      0.010\n",
      "        11      0.000      0.033      0.000     -0.184      0.026     -0.030     -0.183     -0.030\n",
      "        12      0.000     -0.017      0.000      0.097      0.035      0.018      0.097      0.018\n",
      "        13      0.000     -0.164      0.007      0.938      0.058      0.232      0.937      0.232\n",
      "        14      0.000     -0.106      0.002      0.600      0.034      0.113      0.599      0.112\n",
      "        15      0.000     -0.011      0.000      0.062      0.025      0.010      0.062      0.010\n",
      "        16      0.000     -0.043      0.000      0.242      0.028      0.041      0.241      0.041\n",
      "        17      0.000     -0.019      0.000      0.108      0.022      0.016      0.107      0.016\n",
      "        18      0.000      0.091      0.001     -0.511      0.021     -0.076     -0.510     -0.075\n",
      "        19      0.000     -0.035      0.000      0.200      0.035      0.038      0.199      0.038\n",
      "        20      0.000      0.103      0.001     -0.578      0.028     -0.098     -0.577     -0.097\n",
      "        21      0.000      0.009      0.000     -0.052      0.032     -0.009     -0.052     -0.009\n",
      "        22      0.000     -0.261      0.019      1.502      0.064      0.393      1.509      0.395\n",
      "        23      0.000      0.165      0.002     -0.927      0.020     -0.132     -0.927     -0.132\n",
      "        24      0.000      0.167      0.006     -0.954      0.051     -0.220     -0.954     -0.220\n",
      "        25      0.000      0.104      0.001     -0.586      0.029     -0.102     -0.585     -0.102\n",
      "        26      0.000      0.087      0.001     -0.491      0.020     -0.071     -0.490     -0.070\n",
      "        27      0.000     -0.005      0.000      0.029      0.022      0.004      0.029      0.004\n",
      "        28      0.000     -0.034      0.000      0.194      0.022      0.029      0.193      0.029\n",
      "        29      0.000      0.069      0.000     -0.389      0.023     -0.060     -0.388     -0.060\n",
      "        30      0.000      0.089      0.001     -0.502      0.026     -0.081     -0.500     -0.081\n",
      "        31      0.000      0.071      0.000     -0.397      0.019     -0.055     -0.396     -0.054\n",
      "        32      0.000     -0.082      0.001      0.465      0.044      0.099      0.463      0.099\n",
      "        33      0.000     -0.083      0.001      0.465      0.026      0.075      0.464      0.075\n",
      "        34      0.000      0.046      0.000     -0.258      0.024     -0.041     -0.257     -0.040\n",
      "        35      0.000     -0.092      0.001      0.523      0.033      0.096      0.521      0.096\n",
      "        36      0.000     -0.070      0.001      0.393      0.026      0.064      0.392      0.064\n",
      "        37      0.000     -0.108      0.002      0.611      0.032      0.111      0.610      0.111\n",
      "        38      0.000     -0.009      0.000      0.053      0.035      0.010      0.053      0.010\n",
      "        39      0.000      0.003      0.000     -0.017      0.021     -0.002     -0.016     -0.002\n",
      "        40      0.000     -0.055      0.000      0.310      0.026      0.050      0.309      0.050\n",
      "        41      0.000      0.230      0.057     -1.416      0.187     -0.678     -1.421     -0.681\n",
      "        42      0.000     -0.060      0.000      0.336      0.025      0.054      0.335      0.054\n",
      "        43      0.000      0.148      0.003     -0.838      0.036     -0.161     -0.837     -0.161\n",
      "        44      0.000      0.101      0.002     -0.576      0.053     -0.136     -0.575     -0.135\n",
      "        45      0.000      0.071      0.001     -0.401      0.027     -0.067     -0.400     -0.067\n",
      "        46      0.000     -0.010      0.000      0.059      0.036      0.011      0.058      0.011\n",
      "        47      0.000     -0.017      0.000      0.093      0.022      0.014      0.093      0.014\n",
      "        48      0.000     -0.021      0.000      0.117      0.023      0.018      0.117      0.018\n",
      "        49      0.000     -0.028      0.000      0.155      0.022      0.023      0.154      0.023\n",
      "        50      1.000      1.031      0.000     -0.179      0.052     -0.042     -0.178     -0.042\n",
      "        51      1.000      1.072      0.001     -0.407      0.036     -0.079     -0.406     -0.079\n",
      "        52      1.000      1.209      0.007     -1.184      0.036     -0.228     -1.186     -0.229\n",
      "        53      1.000      1.163      0.006     -0.929      0.050     -0.213     -0.928     -0.213\n",
      "        54      1.000      1.183      0.004     -1.031      0.030     -0.181     -1.031     -0.181\n",
      "        55      1.000      1.123      0.003     -0.698      0.046     -0.152     -0.697     -0.152\n",
      "        56      1.000      1.206      0.007     -1.170      0.039     -0.236     -1.172     -0.237\n",
      "        57      1.000      0.956      0.001      0.256      0.080      0.076      0.255      0.075\n",
      "        58      1.000      0.990      0.000      0.057      0.058      0.014      0.056      0.014\n",
      "        59      1.000      1.142      0.003     -0.804      0.039     -0.163     -0.803     -0.162\n",
      "        60      1.000      1.120      0.010     -0.720      0.137     -0.287     -0.719     -0.287\n",
      "        61      1.000      1.080      0.001     -0.450      0.033     -0.083     -0.448     -0.083\n",
      "        62      1.000      0.992      0.000      0.044      0.046      0.010      0.044      0.010\n",
      "        63      1.000      1.213      0.004     -1.198      0.023     -0.184     -1.200     -0.185\n",
      "        64      1.000      0.880      0.004      0.688      0.056      0.168      0.686      0.168\n",
      "        65      1.000      0.951      0.000      0.276      0.046      0.061      0.276      0.061\n",
      "        66      1.000      1.246      0.009     -1.395      0.037     -0.272     -1.400     -0.272\n",
      "        67      1.000      0.980      0.000      0.113      0.050      0.026      0.113      0.026\n",
      "        68      1.000      1.346      0.036     -1.995      0.068     -0.539     -2.017     -0.544\n",
      "        69      1.000      0.980      0.000      0.115      0.027      0.019      0.115      0.019\n",
      "        70      1.000      1.474      0.043     -2.697      0.045     -0.586     -2.759     -0.600\n",
      "        71      1.000      0.901      0.001      0.563      0.035      0.108      0.562      0.108\n",
      "        72      1.000      1.437      0.021     -2.465      0.027     -0.412     -2.511     -0.420\n",
      "        73      1.000      0.945      0.009      0.378      0.339      0.270      0.377      0.270\n",
      "        74      1.000      0.915      0.001      0.481      0.039      0.097      0.479      0.096\n",
      "        75      1.000      0.981      0.000      0.105      0.040      0.022      0.105      0.022\n",
      "        76      1.000      1.156      0.004     -0.887      0.039     -0.180     -0.887     -0.179\n",
      "        77      1.000      1.413      0.015     -2.325      0.022     -0.351     -2.362     -0.357\n",
      "        78      1.000      1.209      0.004     -1.172      0.020     -0.168     -1.174     -0.168\n",
      "        79      1.000      0.801      0.008      1.131      0.047      0.251      1.132      0.251\n",
      "        80      1.000      1.001      0.000     -0.005      0.036     -0.001     -0.005     -0.001\n",
      "        81      1.000      0.948      0.000      0.293      0.043      0.062      0.292      0.062\n",
      "        82      1.000      0.892      0.001      0.609      0.026      0.099      0.608      0.099\n",
      "        83      1.000      1.626      0.041     -3.526      0.025     -0.570     -3.679     -0.595\n",
      "        84      1.000      1.279      0.016     -1.591      0.049     -0.362     -1.600     -0.364\n",
      "        85      1.000      1.127      0.005     -0.733      0.065     -0.193     -0.732     -0.193\n",
      "        86      1.000      1.139      0.003     -0.787      0.033     -0.146     -0.786     -0.146\n",
      "        87      1.000      1.077      0.002     -0.443      0.062     -0.114     -0.442     -0.114\n",
      "        88      1.000      0.953      0.000      0.266      0.034      0.050      0.265      0.050\n",
      "        89      1.000      1.100      0.001     -0.563      0.032     -0.103     -0.562     -0.103\n",
      "        90      1.000      1.035      0.001     -0.214      0.166     -0.095     -0.213     -0.095\n",
      "        91      1.000      1.143      0.002     -0.804      0.025     -0.128     -0.803     -0.128\n",
      "        92      1.000      0.924      0.001      0.432      0.032      0.078      0.431      0.078\n",
      "        93      1.000      0.969      0.000      0.183      0.087      0.056      0.182      0.056\n",
      "        94      1.000      1.071      0.001     -0.400      0.026     -0.065     -0.399     -0.065\n",
      "        95      1.000      0.860      0.006      0.810      0.073      0.228      0.809      0.227\n",
      "        96      1.000      0.995      0.000      0.027      0.028      0.005      0.027      0.005\n",
      "        97      1.000      0.947      0.000      0.301      0.033      0.055      0.300      0.055\n",
      "        98      1.000      0.936      0.003      0.384      0.151      0.162      0.383      0.162\n",
      "        99      1.000      0.996      0.000      0.025      0.025      0.004      0.025      0.004\n",
      "       100      2.000      2.226      0.038     -1.356      0.141     -0.550     -1.360     -0.552\n",
      "       101      2.000      1.895      0.002      0.599      0.042      0.125      0.597      0.125\n",
      "       102      2.000      1.953      0.000      0.264      0.033      0.049      0.263      0.049\n",
      "       103      2.000      1.890      0.002      0.625      0.042      0.130      0.623      0.130\n",
      "       104      2.000      2.101      0.001     -0.570      0.035     -0.109     -0.569     -0.109\n",
      "       105      2.000      2.163      0.008     -0.939      0.065     -0.249     -0.939     -0.249\n",
      "       106      2.000      1.778      0.028      1.313      0.116      0.475      1.316      0.476\n",
      "       107      2.000      2.124      0.010     -0.740      0.131     -0.288     -0.739     -0.287\n",
      "       108      2.000      2.016      0.000     -0.094      0.072     -0.026     -0.094     -0.026\n",
      "       109      2.000      1.934      0.004      0.399      0.157      0.172      0.398      0.172\n",
      "       110      2.000      1.646      0.010      1.988      0.020      0.286      2.009      0.289\n",
      "       111      2.000      1.830      0.003      0.960      0.026      0.156      0.960      0.156\n",
      "       112      2.000      1.865      0.002      0.760      0.025      0.123      0.759      0.122\n",
      "       113      2.000      2.065      0.002     -0.379      0.085     -0.115     -0.378     -0.115\n",
      "       114      2.000      2.419      0.111     -2.492      0.125     -0.942     -2.540     -0.960\n",
      "       115      2.000      1.996      0.000      0.023      0.034      0.004      0.023      0.004\n",
      "       116      2.000      1.765      0.006      1.325      0.026      0.215      1.328      0.215\n",
      "       117      2.000      2.015      0.000     -0.096      0.237     -0.054     -0.096     -0.053\n",
      "       118      2.000      2.233      0.066     -1.447      0.201     -0.726     -1.453     -0.729\n",
      "       119      2.000      1.647      0.029      2.016      0.054      0.480      2.038      0.485\n",
      "       120      2.000      1.972      0.000      0.159      0.040      0.033      0.158      0.032\n",
      "       121      2.000      1.924      0.001      0.433      0.059      0.109      0.432      0.108\n",
      "       122      2.000      2.263      0.044     -1.564      0.126     -0.593     -1.572     -0.597\n",
      "       123      2.000      1.599      0.016      2.261      0.025      0.362      2.295      0.368\n",
      "       124      2.000      1.874      0.002      0.711      0.035      0.136      0.710      0.135\n",
      "       125      2.000      1.896      0.004      0.604      0.079      0.177      0.603      0.176\n",
      "       126      2.000      1.550      0.016      2.531      0.019      0.357      2.581      0.364\n",
      "       127      2.000      1.549      0.015      2.533      0.019      0.349      2.583      0.356\n",
      "       128      2.000      2.064      0.001     -0.362      0.035     -0.068     -0.361     -0.068\n",
      "       129      2.000      1.763      0.027      1.391      0.101      0.466      1.396      0.468\n",
      "       130      2.000      1.984      0.000      0.092      0.077      0.027      0.092      0.027\n",
      "       131      2.000      1.947      0.006      0.350      0.297      0.228      0.349      0.227\n",
      "       132      2.000      2.136      0.004     -0.772      0.046     -0.169     -0.771     -0.169\n",
      "       133      2.000      1.476      0.031      2.953      0.027      0.495      3.037      0.509\n",
      "       134      2.000      1.809      0.040      1.176      0.187      0.565      1.178      0.566\n",
      "       135      2.000      1.930      0.004      0.424      0.154      0.180      0.422      0.180\n",
      "       136      2.000      2.078      0.003     -0.455      0.097     -0.149     -0.454     -0.148\n",
      "       137      2.000      1.756      0.009      1.380      0.036      0.267      1.384      0.268\n",
      "       138      2.000      1.526      0.019      2.664      0.021      0.393      2.723      0.402\n",
      "       139      2.000      1.779      0.006      1.247      0.030      0.219      1.249      0.219\n",
      "       140      2.000      2.107      0.002     -0.610      0.046     -0.134     -0.609     -0.134\n",
      "       141      2.000      1.878      0.004      0.699      0.055      0.169      0.698      0.169\n",
      "       142      2.000      1.895      0.002      0.599      0.042      0.125      0.597      0.125\n",
      "       143      2.000      2.042      0.000     -0.236      0.042     -0.049     -0.235     -0.049\n",
      "       144      2.000      2.123      0.004     -0.704      0.063     -0.183     -0.703     -0.183\n",
      "       145      2.000      1.979      0.000      0.122      0.044      0.026      0.122      0.026\n",
      "       146      2.000      1.789      0.011      1.209      0.056      0.294      1.211      0.295\n",
      "       147      2.000      1.746      0.004      1.424      0.016      0.184      1.429      0.184\n",
      "       148      2.000      1.976      0.000      0.139      0.087      0.043      0.138      0.043\n",
      "       149      2.000      1.679      0.016      1.821      0.037      0.355      1.836      0.357\n",
      "==================================================================================================\n"
     ]
    }
   ],
   "source": [
    "OL.cooks_distance()"
   ]
  },
  {
   "cell_type": "code",
   "execution_count": 24,
   "metadata": {},
   "outputs": [
    {
     "name": "stdout",
     "output_type": "stream",
     "text": [
      "<!> in development <!>\n"
     ]
    },
    {
     "data": {
      "image/png": "[encoded data removed]",
      "text/plain": [
       "<Figure size 432x288 with 1 Axes>"
      ]
     },
     "metadata": {
      "needs_background": "light"
     },
     "output_type": "display_data"
    }
   ],
   "source": [
    "OL.mahalanobis_distance()"
   ]
  }
 ],
 "metadata": {
  "interpreter": {
   "hash": "4a113fc46985be8cfb6b6ecae182bb047fac23af7d9480bf47a7f64500e196ff"
  },
  "kernelspec": {
   "display_name": "Python 3.9.0 32-bit",
   "language": "python",
   "name": "python3"
  },
  "language_info": {
   "codemirror_mode": {
    "name": "ipython",
    "version": 3
   },
   "file_extension": ".py",
   "mimetype": "text/x-python",
   "name": "python",
   "nbconvert_exporter": "python",
   "pygments_lexer": "ipython3",
   "version": "3.9.0"
  },
  "orig_nbformat": 4
 },
 "nbformat": 4,
 "nbformat_minor": 2
}
